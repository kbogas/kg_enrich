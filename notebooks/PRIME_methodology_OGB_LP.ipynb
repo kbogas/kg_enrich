{
 "cells": [
  {
   "cell_type": "code",
   "execution_count": 1,
   "outputs": [
    {
     "data": {
      "text/plain": "<Figure size 432x288 with 1 Axes>",
      "image/png": "[encoded data removed]"
     },
     "metadata": {},
     "output_type": "display_data"
    }
   ],
   "source": [
    "import os\n",
    "import pandas as pd\n",
    "import numpy as np\n",
    "import matplotlib.pyplot as plt\n",
    "import seaborn as sns\n",
    "import tqdm\n",
    "from pprint import pprint\n",
    "%matplotlib inline\n",
    "\n",
    "sns.set_style(\"white\")\n",
    "plt.plot(np.arange(1,5));"
   ],
   "metadata": {
    "collapsed": false,
    "pycharm": {
     "name": "#%%\n"
    }
   }
  },
  {
   "cell_type": "markdown",
   "source": [
    "# USE ogbl-biokg?\n"
   ],
   "metadata": {
    "collapsed": false
   }
  },
  {
   "cell_type": "code",
   "execution_count": 2,
   "outputs": [],
   "source": [
    "from ogb.linkproppred import LinkPropPredDataset\n",
    "d_name = \"ogbl-biokg\"\n",
    "dataset = LinkPropPredDataset(name = d_name)\n",
    "\n",
    "split_edge = dataset.get_edge_split()\n",
    "train_edge, valid_edge, test_edge = split_edge[\"train\"], split_edge[\"valid\"], split_edge[\"test\"]\n",
    "graph = dataset[0] # graph: library-agnostic graph object\n"
   ],
   "metadata": {
    "collapsed": false,
    "pycharm": {
     "name": "#%%\n"
    }
   }
  },
  {
   "cell_type": "code",
   "execution_count": 2,
   "outputs": [],
   "source": [],
   "metadata": {
    "collapsed": false,
    "pycharm": {
     "name": "#%%\n"
    }
   }
  },
  {
   "cell_type": "code",
   "execution_count": 3,
   "outputs": [
    {
     "name": "stdout",
     "output_type": "stream",
     "text": [
      "Unique rels: 51\n"
     ]
    }
   ],
   "source": [
    "print(f'Unique rels: {len(graph[\"edge_index_dict\"].keys())}')"
   ],
   "metadata": {
    "collapsed": false,
    "pycharm": {
     "name": "#%%\n"
    }
   }
  },
  {
   "cell_type": "code",
   "execution_count": 4,
   "outputs": [
    {
     "name": "stdout",
     "output_type": "stream",
     "text": [
      "==== Expected input format of Evaluator for ogbl-biokg\n",
      "{'y_pred_pos': y_pred_pos, 'y_pred_neg': y_pred_neg}\n",
      "- y_pred_pos: numpy ndarray or torch tensor of shape (num_edge, ). Torch tensor on GPU is recommended for efficiency.\n",
      "- y_pred_neg: numpy ndarray or torch tensor of shape (num_edge, num_nodes_neg). Torch tensor on GPU is recommended for efficiency.\n",
      "y_pred_pos is the predicted scores for positive edges.\n",
      "y_pred_neg is the predicted scores for negative edges. It needs to be a 2d matrix.\n",
      "y_pred_pos[i] is ranked among y_pred_neg[i].\n",
      "Note: As the evaluation metric is ranking-based, the predicted scores need to be different for different edges.\n",
      "==== Expected output format of Evaluator for ogbl-biokg\n",
      "{'hits@1_list': hits@1_list, 'hits@3_list': hits@3_list, \n",
      "'hits@10_list': hits@10_list, 'mrr_list': mrr_list}\n",
      "- mrr_list (list of float): list of scores for calculating MRR \n",
      "- hits@1_list (list of float): list of scores for calculating Hits@1 \n",
      "- hits@3_list (list of float): list of scores to calculating Hits@3\n",
      "- hits@10_list (list of float): list of scores to calculating Hits@10\n",
      "Note: i-th element corresponds to the prediction score for the i-th edge.\n",
      "Note: To obtain the final score, you need to concatenate the lists of scores and take average over the concatenated list.\n"
     ]
    }
   ],
   "source": [
    "from ogb.linkproppred import Evaluator\n",
    "\n",
    "evaluator = Evaluator(name = d_name)\n",
    "print(evaluator.expected_input_format)\n",
    "print(evaluator.expected_output_format)\n"
   ],
   "metadata": {
    "collapsed": false,
    "pycharm": {
     "name": "#%%\n"
    }
   }
  },
  {
   "cell_type": "code",
   "execution_count": 5,
   "outputs": [
    {
     "ename": "KeyError",
     "evalue": "('author', 'affiliated_with', 'institution')",
     "output_type": "error",
     "traceback": [
      "\u001B[0;31m---------------------------------------------------------------------------\u001B[0m",
      "\u001B[0;31mKeyError\u001B[0m                                  Traceback (most recent call last)",
      "\u001B[0;32m<ipython-input-5-085dbfb65d9d>\u001B[0m in \u001B[0;36m<module>\u001B[0;34m\u001B[0m\n\u001B[0;32m----> 1\u001B[0;31m max(graph['edge_index_dict'][('author',\n\u001B[0m\u001B[1;32m      2\u001B[0m    \u001B[0;34m'affiliated_with'\u001B[0m\u001B[0;34m,\u001B[0m\u001B[0;34m\u001B[0m\u001B[0;34m\u001B[0m\u001B[0m\n\u001B[1;32m      3\u001B[0m    'institution')][0])\n\u001B[1;32m      4\u001B[0m \u001B[0;34m\u001B[0m\u001B[0m\n",
      "\u001B[0;31mKeyError\u001B[0m: ('author', 'affiliated_with', 'institution')"
     ]
    }
   ],
   "source": [
    "max(graph['edge_index_dict'][('author',\n",
    "   'affiliated_with',\n",
    "   'institution')][0])"
   ],
   "metadata": {
    "collapsed": false,
    "pycharm": {
     "name": "#%%\n"
    }
   }
  },
  {
   "cell_type": "code",
   "execution_count": null,
   "outputs": [],
   "source": [
    "#graph"
   ],
   "metadata": {
    "collapsed": false,
    "pycharm": {
     "name": "#%%\n"
    }
   }
  },
  {
   "cell_type": "code",
   "execution_count": 5,
   "outputs": [],
   "source": [
    "from scipy.sparse import csc_matrix\n",
    "from sympy import nextprime\n",
    "\n",
    "relid2prime = {}\n",
    "prime2relid = {}\n",
    "current_int = 2\n",
    "\n",
    "data_edges, rows, cols = [], [], []\n",
    "N_nodes = sum(list(graph['num_nodes_dict'].values()))\n",
    "for rel, indexes in graph['edge_index_dict'].items():\n",
    "    cur_prime = int(nextprime(current_int))\n",
    "    relid2prime[rel] = cur_prime\n",
    "    prime2relid[cur_prime] = rel\n",
    "    current_int = cur_prime\n",
    "\n",
    "    rows.extend(indexes[0].tolist())\n",
    "    cols.extend(indexes[1].tolist())\n",
    "    data_edges.extend([cur_prime for _ in indexes[0]])\n",
    "\n",
    "adj_ = csc_matrix((data_edges, (rows, cols)), dtype=int, shape=(N_nodes, N_nodes))"
   ],
   "metadata": {
    "collapsed": false,
    "pycharm": {
     "name": "#%%\n"
    }
   }
  },
  {
   "cell_type": "code",
   "execution_count": 6,
   "outputs": [
    {
     "name": "stdout",
     "output_type": "stream",
     "text": [
      "(93773, 93773)\n",
      "Calculated Adj. for power: 1 in 24.76 seconds!\n"
     ]
    }
   ],
   "source": [
    "import time\n",
    "power = 1\n",
    "adj_power = [adj_]\n",
    "for p in range(1, power + 1):\n",
    "    print(adj_power[-1].shape)\n",
    "    time_s = time.time()\n",
    "    adj_power.append(adj_power[-1] * adj_)\n",
    "    print(f'Calculated Adj. for power: {p} in {time.time() - time_s:.2f} seconds!')"
   ],
   "metadata": {
    "collapsed": false,
    "pycharm": {
     "name": "#%%\n"
    }
   }
  },
  {
   "cell_type": "code",
   "execution_count": null,
   "outputs": [],
   "source": [
    "graph"
   ],
   "metadata": {
    "collapsed": false,
    "pycharm": {
     "name": "#%%\n"
    }
   }
  },
  {
   "cell_type": "code",
   "execution_count": null,
   "outputs": [],
   "source": [
    "from sklearn.pipeline import Pipeline\n",
    "from sklearn.preprocessing import StandardScaler, MinMaxScaler\n",
    "from sklearn.svm import SVC, LinearSVC\n",
    "from sklearn.tree import DecisionTreeClassifier\n",
    "\n",
    "\n",
    "pipe = Pipeline([\n",
    "    ('dt', DecisionTreeClassifier(random_state=42))\n",
    "    #('sd', StandardScaler()),\n",
    "    #('clf', LinearSVC(C=100, class_weight='balanced'),)\n",
    "])\n",
    "pipe.fit(feats2[train_idx['paper']], y_train)\n",
    "print(f'Fitted')\n",
    "y_pred = pipe.predict(feats2[test_idx['paper']])\n",
    "print(f'Predict')"
   ],
   "metadata": {
    "collapsed": false,
    "pycharm": {
     "name": "#%%\n"
    }
   }
  },
  {
   "cell_type": "code",
   "execution_count": null,
   "outputs": [],
   "source": [
    "input_dict = {\"y_true\": label['paper'][test_idx['paper'].flatten()].reshape(-1,1),\n",
    "              \"y_pred\": y_pred.reshape(-1,1)}\n",
    "result_dict = evaluator.eval(input_dict)\n",
    "print(result_dict)"
   ],
   "metadata": {
    "collapsed": false,
    "pycharm": {
     "name": "#%%\n"
    }
   }
  },
  {
   "cell_type": "markdown",
   "source": [
    "Try out idea with A' = [A | A.T] (Nx2N) and learnable matrices: W (2N x N) that complete\n",
    "A' x W = A.\n",
    "\n",
    "A' = [A[i,:] | A[:,i]] concatenated the feature vectors of incmoming and outgoing for each node.\n",
    "Also. this is for power == 1. We can have multiple W_p for different A'_p\n"
   ],
   "metadata": {
    "collapsed": false,
    "pycharm": {
     "name": "#%% md\n"
    }
   }
  },
  {
   "cell_type": "code",
   "execution_count": 50,
   "outputs": [
    {
     "name": "stdout",
     "output_type": "stream",
     "text": [
      "# of unique rels: 3 \t | # of unique nodes: 4\n"
     ]
    },
    {
     "data": {
      "text/plain": "<Figure size 1080x720 with 1 Axes>",
      "image/png": "[encoded data removed]"
     },
     "metadata": {},
     "output_type": "display_data"
    }
   ],
   "source": [
    "import networkx as nx\n",
    "triples = [\n",
    "    (\"A\", 'R1', 'C'),\n",
    "    ('C', 'R2', 'B'),\n",
    "    ('C', 'R2', 'D'),\n",
    "    ('A', 'R3', 'D'),\n",
    "]\n",
    "triples_df = pd.DataFrame.from_records(triples, columns=['head', 'rel', 'tail'])\n",
    "\n",
    "unique_rels = sorted(triples_df['rel'].unique())\n",
    "unique_nodes = sorted(set(triples_df['head'].values.tolist() + triples_df['tail'].values.tolist()))\n",
    "print(f'# of unique rels: {len(unique_rels)} \\t | # of unique nodes: {len(unique_nodes)}')\n",
    "\n",
    "G = nx.from_pandas_edgelist(triples_df, source='head', target='tail', edge_attr='rel', create_using=nx.MultiDiGraph())\n",
    "\n",
    "colormap = {\n",
    "    'R1': 'r',\n",
    "    'R2': 'b',\n",
    "    'R3': 'm'\n",
    "}\n",
    "\n",
    "pos = nx.circular_layout(G)\n",
    "edges = G.edges()\n",
    "\n",
    "colors = []\n",
    "edge_labels = {}\n",
    "for (u,v,attrib_dict) in list(G.edges.data()):\n",
    "    colors.append(colormap[attrib_dict['rel']])\n",
    "    edge_labels[(u,v)] = attrib_dict['rel']\n",
    "\n",
    "plt.figure(figsize=(15,10))\n",
    "nx.draw(G, pos, edge_color=colors, with_labels = True)\n",
    "nx.draw_networkx_edge_labels(G,pos,edge_labels=edge_labels,font_color='red', font_size=18)\n",
    "plt.axis('off')\n",
    "plt.show()"
   ],
   "metadata": {
    "collapsed": false,
    "pycharm": {
     "name": "#%%\n"
    }
   }
  },
  {
   "cell_type": "markdown",
   "source": [
    "Let's say that the rule is R1(X,Y) ^ R2(Y,Z) => R3(Z,X).\n",
    "We have A confirming this rule so we expect the second power adj to be able to get this.\n"
   ],
   "metadata": {
    "collapsed": false,
    "pycharm": {
     "name": "#%% md\n"
    }
   }
  },
  {
   "cell_type": "code",
   "execution_count": 51,
   "outputs": [
    {
     "name": "stdout",
     "output_type": "stream",
     "text": [
      "{'R1': 3, 'R2': 5, 'R3': 7}\n"
     ]
    }
   ],
   "source": [
    "unique_nodes = sorted(list(G.nodes()))\n",
    "node2id = {}\n",
    "id2node = {}\n",
    "for i, node in enumerate(unique_nodes):\n",
    "    node2id[node] = i\n",
    "    id2node[i] = node\n",
    "\n",
    "from sympy import nextprime, primefactors\n",
    "relid2prime = {}\n",
    "prime2relid = {}\n",
    "current_int = 2\n",
    "unique_rels = sorted(triples_df['rel'].unique())\n",
    "for rel in unique_rels:\n",
    "    cur_prime = nextprime(current_int)\n",
    "    relid2prime[rel] = cur_prime\n",
    "    prime2relid[cur_prime] = rel\n",
    "    current_int = cur_prime\n",
    "print(relid2prime)"
   ],
   "metadata": {
    "collapsed": false,
    "pycharm": {
     "name": "#%%\n"
    }
   }
  },
  {
   "cell_type": "code",
   "execution_count": 52,
   "outputs": [
    {
     "data": {
      "text/plain": "array([[0, 0, 3, 7],\n       [0, 0, 0, 0],\n       [0, 5, 0, 5],\n       [0, 0, 0, 0]])"
     },
     "execution_count": 52,
     "metadata": {},
     "output_type": "execute_result"
    }
   ],
   "source": [
    "from scipy.sparse import csc_matrix\n",
    "A = np.zeros((len(unique_nodes), len(unique_nodes)), dtype=np.int64)\n",
    "for i, row in triples_df.iterrows():\n",
    "    A[node2id[row['head']], node2id[row['tail']]] = relid2prime[row['rel']]\n",
    "A_clipped = A.copy().clip(0, 1)\n",
    "\n",
    "max_order = 5\n",
    "power_A = [csc_matrix(A)]\n",
    "power_A_clipped = [csc_matrix(A_clipped)]\n",
    "\n",
    "for _ in range(1,max_order):\n",
    "    power_A.append(power_A[-1] * csc_matrix(A))\n",
    "    power_A_clipped.append(power_A_clipped[-1] *csc_matrix(A_clipped))\n",
    "power_A[0].toarray()"
   ],
   "metadata": {
    "collapsed": false,
    "pycharm": {
     "name": "#%%\n"
    }
   }
  },
  {
   "cell_type": "code",
   "execution_count": 53,
   "outputs": [
    {
     "data": {
      "text/plain": "array([[ 0, 15,  0, 15],\n       [ 0,  0,  0,  0],\n       [ 0,  0,  0,  0],\n       [ 0,  0,  0,  0]])"
     },
     "execution_count": 53,
     "metadata": {},
     "output_type": "execute_result"
    }
   ],
   "source": [
    "power_A[1].toarray()"
   ],
   "metadata": {
    "collapsed": false,
    "pycharm": {
     "name": "#%%\n"
    }
   }
  },
  {
   "cell_type": "code",
   "execution_count": 54,
   "outputs": [
    {
     "data": {
      "text/plain": "array([[0, 0, 0, 0],\n       [0, 0, 0, 0],\n       [0, 0, 0, 0],\n       [0, 0, 0, 0]])"
     },
     "execution_count": 54,
     "metadata": {},
     "output_type": "execute_result"
    }
   ],
   "source": [
    "power_A[2].toarray()"
   ],
   "metadata": {
    "collapsed": false,
    "pycharm": {
     "name": "#%%\n"
    }
   }
  },
  {
   "cell_type": "markdown",
   "source": [
    "We expect to learn a mapping of 15 to 7, so the missing link A-B with a 15->7 can be learnt.\n",
    "Try:\n",
    "1) Direct mapping learning\n",
    "2) Learnable W\n",
    "\n",
    "Q: Make symmetric?"
   ],
   "metadata": {
    "collapsed": false,
    "pycharm": {
     "name": "#%% md\n"
    }
   }
  },
  {
   "cell_type": "code",
   "execution_count": 61,
   "outputs": [],
   "source": [
    "from scipy.sparse import csc_matrix\n",
    "from collections import defaultdict\n",
    "relation_to_coord = defaultdict(list)\n",
    "coord_to_relation = defaultdict(set)\n",
    "rows, cols = power_A[0].nonzero()\n",
    "for i, (row, col) in enumerate(zip(rows, cols)):\n",
    "    relation_to_coord[power_A[0][row,col]].append((row, col))\n",
    "    coord_to_relation[(row, col)].add(power_A[0][row,col])\n",
    "    #print(i, row, col, power_A[0][row,col], power_A[0].data[i])"
   ],
   "metadata": {
    "collapsed": false,
    "pycharm": {
     "name": "#%%\n"
    }
   }
  },
  {
   "cell_type": "code",
   "execution_count": 62,
   "outputs": [],
   "source": [
    "path_power_to_relation = {}\n",
    "for p in range(1,max_order):\n",
    "    path_power_to_relation[p] = defaultdict(set)\n",
    "    rows, cols = power_A[p].nonzero()\n",
    "    for i, (row, col) in enumerate(zip(rows, cols)):\n",
    "         path_power_to_relation[p][power_A[p][(row, col)]] = path_power_to_relation[p][power_A[p][(row, col)]].union(coord_to_relation[(row, col)])"
   ],
   "metadata": {
    "collapsed": false,
    "pycharm": {
     "name": "#%%\n"
    }
   }
  },
  {
   "cell_type": "code",
   "execution_count": 57,
   "outputs": [
    {
     "data": {
      "text/plain": "defaultdict(set, {15: {7}})"
     },
     "execution_count": 57,
     "metadata": {},
     "output_type": "execute_result"
    }
   ],
   "source": [
    "path_power_to_relation[1]"
   ],
   "metadata": {
    "collapsed": false,
    "pycharm": {
     "name": "#%%\n"
    }
   }
  },
  {
   "cell_type": "code",
   "execution_count": 67,
   "outputs": [
    {
     "name": "stdout",
     "output_type": "stream",
     "text": [
      "Predicted tails: Counter({'D': 1.0})\n"
     ]
    }
   ],
   "source": [
    "from collections import Counter\n",
    "q = ('A', 'R3', 'B')\n",
    "h_q, r_q, t_q = q\n",
    "\n",
    "# Predicting probable tail:\n",
    "rel_i = relid2prime[r_q]\n",
    "h_i = unique_nodes.index(h_q)\n",
    "coord_to_check = relation_to_coord[rel_i]\n",
    "for t_i, t_predicted in enumerate(unique_nodes):\n",
    "    pred = []\n",
    "    for p in range(1, max_order):\n",
    "        for (row, col) in coord_to_check:\n",
    "            val = power_A[p][(row, col)]\n",
    "            if rel_i in path_power_to_relation[p][val]:\n",
    "                pred.append(t_predicted)\n",
    "counter = Counter(pred)\n",
    "total = sum(counter.values(), 0.0)\n",
    "for key in counter:\n",
    "    counter[key] /= total\n",
    "\n",
    "print(f'Predicted tails: {counter}')\n",
    "\n",
    "# Predicting probable head:\n",
    "rel_i = relid2prime[r_q]\n",
    "h_i = unique_nodes.index(h_q)\n",
    "coord_to_check = relation_to_coord[rel_i]\n",
    "\n",
    "rel_i = relid2prime[r_q]\n",
    "h_i = unique_nodes.index(h_q)\n",
    "coord_to_check = relation_to_coord[rel_i]\n",
    "for t_i, t_predicted in enumerate(unique_nodes):\n",
    "    pred = []\n",
    "    for p in range(1, max_order):\n",
    "        for (row, col) in coord_to_check:\n",
    "            val = power_A[p][(row, col)]\n",
    "            if rel_i in path_power_to_relation[p][val]:\n",
    "                pred.append(t_predicted)\n",
    "counter = Counter(pred)\n",
    "total = sum(counter.values(), 0.0)\n",
    "for key in counter:\n",
    "    counter[key] /= total\n",
    "\n",
    "print(f'Predicted heads: {counter}')"
   ],
   "metadata": {
    "collapsed": false,
    "pycharm": {
     "name": "#%%\n"
    }
   }
  },
  {
   "cell_type": "markdown",
   "source": [
    "Try out on WN18RR using the 3-hop feature vector per edge in a multi-class setting?\n",
    "\n"
   ],
   "metadata": {
    "collapsed": false,
    "pycharm": {
     "name": "#%% md\n"
    }
   }
  }
 ],
 "metadata": {
  "kernelspec": {
   "display_name": "Python 3",
   "language": "python",
   "name": "python3"
  },
  "language_info": {
   "codemirror_mode": {
    "name": "ipython",
    "version": 2
   },
   "file_extension": ".py",
   "mimetype": "text/x-python",
   "name": "python",
   "nbconvert_exporter": "python",
   "pygments_lexer": "ipython2",
   "version": "2.7.6"
  }
 },
 "nbformat": 4,
 "nbformat_minor": 0
}