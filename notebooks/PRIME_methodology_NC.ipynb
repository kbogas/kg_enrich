{
 "cells": [
  {
   "cell_type": "code",
   "execution_count": 1,
   "metadata": {
    "collapsed": true
   },
   "outputs": [
    {
     "data": {
      "text/plain": "<Figure size 432x288 with 1 Axes>",
      "image/png": "[encoded data removed]"
     },
     "metadata": {},
     "output_type": "display_data"
    }
   ],
   "source": [
    "import os\n",
    "import pandas as pd\n",
    "import numpy as np\n",
    "import matplotlib.pyplot as plt\n",
    "import seaborn as sns\n",
    "import tqdm\n",
    "from pprint import pprint\n",
    "%matplotlib inline\n",
    "sns.set_style(\"white\")\n",
    "plt.plot(np.arange(1,5));"
   ]
  },
  {
   "cell_type": "markdown",
   "source": [
    "# USE ogbn-mag?\n",
    "\n",
    "Outcome: 4% accuracy with 1 or 2hop (1 or 2 features) per node using only structure.\n"
   ],
   "metadata": {
    "collapsed": false,
    "pycharm": {
     "name": "#%% md\n"
    }
   }
  },
  {
   "cell_type": "code",
   "execution_count": 21,
   "outputs": [
    {
     "data": {
      "text/plain": "(629571, 128)"
     },
     "execution_count": 21,
     "metadata": {},
     "output_type": "execute_result"
    }
   ],
   "source": [
    "graph['node_feat_dict']['paper'][train_idx['paper']]"
   ],
   "metadata": {
    "collapsed": false,
    "pycharm": {
     "name": "#%%\n"
    }
   }
  },
  {
   "cell_type": "code",
   "execution_count": 2,
   "outputs": [],
   "source": [
    "from ogb.nodeproppred import NodePropPredDataset\n",
    "\n",
    "d_name = \"ogbn-mag\"\n",
    "dataset = NodePropPredDataset(name = d_name)\n",
    "\n",
    "split_idx = dataset.get_idx_split()\n",
    "train_idx, valid_idx, test_idx = split_idx[\"train\"], split_idx[\"valid\"], split_idx[\"test\"]\n",
    "graph, label = dataset[0]"
   ],
   "metadata": {
    "collapsed": false,
    "pycharm": {
     "name": "#%%\n"
    }
   }
  },
  {
   "cell_type": "code",
   "execution_count": 3,
   "outputs": [
    {
     "name": "stdout",
     "output_type": "stream",
     "text": [
      "Unique rels: 4\n",
      "Unique nodes: 736389\n"
     ]
    }
   ],
   "source": [
    "print(f'Unique rels: {len(graph[\"edge_index_dict\"].keys())}')\n",
    "print(f\"Unique nodes: {graph['node_feat_dict']['paper'].shape[0]}\")"
   ],
   "metadata": {
    "collapsed": false,
    "pycharm": {
     "name": "#%%\n"
    }
   }
  },
  {
   "cell_type": "code",
   "execution_count": 4,
   "outputs": [
    {
     "name": "stdout",
     "output_type": "stream",
     "text": [
      "==== Expected input format of Evaluator for ogbn-mag\n",
      "{'y_true': y_true, 'y_pred': y_pred}\n",
      "- y_true: numpy ndarray or torch tensor of shape (num_node, num_task)\n",
      "- y_pred: numpy ndarray or torch tensor of shape (num_node, num_task)\n",
      "where y_pred stores predicted class label (integer),\n",
      "num_task is 1, and each row corresponds to one node.\n",
      "\n",
      "==== Expected output format of Evaluator for ogbn-mag\n",
      "{'acc': acc}\n",
      "- acc (float): Accuracy score averaged across 1 task(s)\n",
      "\n"
     ]
    }
   ],
   "source": [
    "from ogb.nodeproppred import Evaluator\n",
    "\n",
    "evaluator = Evaluator(name = d_name)\n",
    "print(evaluator.expected_input_format)\n",
    "print(evaluator.expected_output_format)\n"
   ],
   "metadata": {
    "collapsed": false,
    "pycharm": {
     "name": "#%%\n"
    }
   }
  },
  {
   "cell_type": "code",
   "execution_count": 5,
   "outputs": [
    {
     "data": {
      "text/plain": "1134648"
     },
     "execution_count": 5,
     "metadata": {},
     "output_type": "execute_result"
    }
   ],
   "source": [
    "max(graph['edge_index_dict'][('author',\n",
    "   'affiliated_with',\n",
    "   'institution')][0])"
   ],
   "metadata": {
    "collapsed": false,
    "pycharm": {
     "name": "#%%\n"
    }
   }
  },
  {
   "cell_type": "code",
   "execution_count": 34,
   "outputs": [
    {
     "data": {
      "text/plain": "{'edge_index_dict': {('author',\n   'affiliated_with',\n   'institution'): array([[      0,       1,       2, ..., 1134645, 1134647, 1134648],\n         [    845,     996,    3197, ...,    5189,    4668,    4668]]),\n  ('author',\n   'writes',\n   'paper'): array([[      0,       0,       0, ..., 1134647, 1134648, 1134648],\n         [  19703,  289285,  311768, ...,  657395,  671118,  719594]]),\n  ('paper',\n   'cites',\n   'paper'): array([[     0,      0,      0, ..., 736388, 736388, 736388],\n         [    88,  27449, 121051, ..., 421711, 427339, 439864]]),\n  ('paper',\n   'has_topic',\n   'field_of_study'): array([[     0,      0,      0, ..., 736388, 736388, 736388],\n         [   145,   2215,   3205, ...,  21458,  22283,  31934]])},\n 'edge_feat_dict': None,\n 'node_feat_dict': {'paper': array([[-0.095379,  0.040758, -0.210948, ...,  0.061569, -0.027663,\n          -0.133832],\n         [-0.151047, -0.107315, -0.221964, ...,  0.345754, -0.027737,\n          -0.218527],\n         [-0.114799, -0.175982, -0.260556, ...,  0.173058, -0.156445,\n          -0.277954],\n         ...,\n         [ 0.022815, -0.0865  ,  0.098138, ..., -0.054667, -0.207721,\n          -0.230458],\n         [-0.289148, -0.202898, -0.152454, ...,  0.104207,  0.204123,\n          -0.352805],\n         [-0.088966, -0.034788, -0.264226, ...,  0.260077, -0.087453,\n          -0.517127]], dtype=float32)},\n 'num_nodes_dict': {'author': 1134649,\n  'field_of_study': 59965,\n  'institution': 8740,\n  'paper': 736389},\n 'node_year': {'paper': array([[2015],\n         [2012],\n         [2012],\n         ...,\n         [2016],\n         [2017],\n         [2014]])},\n 'edge_reltype': {('author',\n   'affiliated_with',\n   'institution'): array([[0],\n         [0],\n         [0],\n         ...,\n         [0],\n         [0],\n         [0]]),\n  ('author',\n   'writes',\n   'paper'): array([[3],\n         [3],\n         [3],\n         ...,\n         [3],\n         [3],\n         [3]]),\n  ('paper',\n   'cites',\n   'paper'): array([[1],\n         [1],\n         [1],\n         ...,\n         [1],\n         [1],\n         [1]]),\n  ('paper',\n   'has_topic',\n   'field_of_study'): array([[2],\n         [2],\n         [2],\n         ...,\n         [2],\n         [2],\n         [2]])}}"
     },
     "execution_count": 34,
     "metadata": {},
     "output_type": "execute_result"
    }
   ],
   "source": [
    "#graph"
   ],
   "metadata": {
    "collapsed": false,
    "pycharm": {
     "name": "#%%\n"
    }
   }
  },
  {
   "cell_type": "code",
   "execution_count": 6,
   "outputs": [],
   "source": [
    "from scipy.sparse import csc_matrix\n",
    "from sympy import nextprime\n",
    "\n",
    "relid2prime = {}\n",
    "prime2relid = {}\n",
    "current_int = 2\n",
    "\n",
    "data_edges, rows, cols = [], [], []\n",
    "N_nodes = sum(list(graph['num_nodes_dict'].values()))\n",
    "for rel, indexes in graph['edge_index_dict'].items():\n",
    "    cur_prime = int(nextprime(current_int))\n",
    "    relid2prime[rel] = cur_prime\n",
    "    prime2relid[cur_prime] = rel\n",
    "    current_int = cur_prime\n",
    "\n",
    "    rows.extend(indexes[0].tolist())\n",
    "    cols.extend(indexes[1].tolist())\n",
    "    data_edges.extend([cur_prime for _ in indexes[0]])\n",
    "\n",
    "adj_ = csc_matrix((data_edges, (rows, cols)), dtype=int, shape=(N_nodes, N_nodes))"
   ],
   "metadata": {
    "collapsed": false,
    "pycharm": {
     "name": "#%%\n"
    }
   }
  },
  {
   "cell_type": "code",
   "execution_count": 7,
   "outputs": [
    {
     "name": "stdout",
     "output_type": "stream",
     "text": [
      "Calculated 1-hop features\n"
     ]
    }
   ],
   "source": [
    "# 1-hop features\n",
    "adj_copy = adj_.copy()\n",
    "adj_copy.data = np.log(adj_copy.data)\n",
    "sum_ = adj_copy.sum(axis=1)\n",
    "print(f'Calculated 1-hop features')"
   ],
   "metadata": {
    "collapsed": false,
    "pycharm": {
     "name": "#%%\n"
    }
   }
  },
  {
   "cell_type": "code",
   "execution_count": 8,
   "outputs": [
    {
     "name": "stdout",
     "output_type": "stream",
     "text": [
      "Calculated 2-hop features\n"
     ]
    }
   ],
   "source": [
    "# 2-hop features\n",
    "hop2 = adj_ * adj_\n",
    "adj_copy = hop2.copy()\n",
    "adj_copy.data = np.log(adj_copy.data)\n",
    "sum_2 = adj_copy.sum(axis=1)\n",
    "print(f'Calculated 2-hop features')"
   ],
   "metadata": {
    "collapsed": false,
    "pycharm": {
     "name": "#%%\n"
    }
   }
  },
  {
   "cell_type": "code",
   "execution_count": null,
   "outputs": [],
   "source": [
    "# 3-hop features\n",
    "hop3 = hop2 * adj_\n",
    "adj_copy = hop3.copy()\n",
    "adj_copy.data = np.log(adj_copy.data)\n",
    "sum_3 = adj_copy.sum(axis=1)\n",
    "print(f'Calculated 3-hop features')"
   ],
   "metadata": {
    "collapsed": false,
    "pycharm": {
     "name": "#%%\n"
    }
   }
  },
  {
   "cell_type": "code",
   "execution_count": 9,
   "outputs": [],
   "source": [
    "feats1 = sum_"
   ],
   "metadata": {
    "collapsed": false,
    "pycharm": {
     "name": "#%%\n"
    }
   }
  },
  {
   "cell_type": "code",
   "execution_count": 10,
   "outputs": [],
   "source": [
    "feats2 = np.hstack((sum_, sum_2 - sum_))"
   ],
   "metadata": {
    "collapsed": false,
    "pycharm": {
     "name": "#%%\n"
    }
   }
  },
  {
   "cell_type": "code",
   "execution_count": null,
   "outputs": [],
   "source": [
    "feats3 = np.hstack((sum_, sum_2 - sum_, sum_3 - sum_2 - sum1))"
   ],
   "metadata": {
    "collapsed": false,
    "pycharm": {
     "name": "#%%\n"
    }
   }
  },
  {
   "cell_type": "code",
   "execution_count": 24,
   "outputs": [],
   "source": [
    "feats_node_emb_1_train =  np.hstack((sum_[train_idx['paper']],graph['node_feat_dict']['paper'][train_idx['paper']]))\n",
    "feats_node_emb_1_test =  np.hstack((sum_[test_idx['paper']],graph['node_feat_dict']['paper'][test_idx['paper']]))"
   ],
   "metadata": {
    "collapsed": false,
    "pycharm": {
     "name": "#%%\n"
    }
   }
  },
  {
   "cell_type": "code",
   "execution_count": 12,
   "outputs": [],
   "source": [
    "y_train = label['paper'][train_idx['paper'].flatten()].flatten()\n",
    "y_test= label['paper'][test_idx['paper'].flatten()].flatten()"
   ],
   "metadata": {
    "collapsed": false,
    "pycharm": {
     "name": "#%%\n"
    }
   }
  },
  {
   "cell_type": "code",
   "execution_count": null,
   "outputs": [],
   "source": [
    "from sklearn.pipeline import Pipeline\n",
    "from sklearn.preprocessing import StandardScaler, MinMaxScaler\n",
    "from sklearn.svm import SVC, LinearSVC\n",
    "from sklearn.tree import DecisionTreeClassifier\n",
    "from sklearn.ensemble import RandomForestClassifier\n",
    "\n",
    "\n",
    "pipe = Pipeline([\n",
    "    ('dt', RandomForestClassifier(n_jobs=-1, random_state=42))\n",
    "    #('sd', StandardScaler()),\n",
    "    #('clf', LinearSVC(C=100, class_weight='balanced'),)\n",
    "])\n",
    "pipe.fit(feats_node_emb_1_train, y_train)\n",
    "print(f'Fitted')\n",
    "y_pred = pipe.predict(feats_node_emb_1_test)\n",
    "print(f'Predict')"
   ],
   "metadata": {
    "collapsed": false,
    "pycharm": {
     "name": "#%%\n",
     "is_executing": true
    }
   }
  },
  {
   "cell_type": "code",
   "execution_count": null,
   "outputs": [],
   "source": [
    "input_dict = {\"y_true\": y_test.reshape(-1,1),\n",
    "              \"y_pred\": y_pred.reshape(-1,1)}\n",
    "result_dict = evaluator.eval(input_dict)\n",
    "print(result_dict)"
   ],
   "metadata": {
    "collapsed": false,
    "pycharm": {
     "name": "#%%\n",
     "is_executing": true
    }
   }
  },
  {
   "cell_type": "code",
   "execution_count": 46,
   "outputs": [
    {
     "name": "stderr",
     "output_type": "stream",
     "text": [
      "/Users/Konstantinos.Bougiatiotis@ey.com/anaconda3/envs/lola/lib/python3.7/site-packages/ipykernel_launcher.py:2: TqdmDeprecationWarning: This function will be removed in tqdm==5.0.0\n",
      "Please use `tqdm.notebook.tqdm` instead of `tqdm.tqdm_notebook`\n",
      "  \n"
     ]
    },
    {
     "data": {
      "text/plain": "  0%|          | 0/629571 [00:00<?, ?it/s]",
      "application/vnd.jupyter.widget-view+json": {
       "version_major": 2,
       "version_minor": 0,
       "model_id": "82dea3db35f944e1b4a82d5f85830830"
      }
     },
     "metadata": {},
     "output_type": "display_data"
    },
    {
     "ename": "KeyboardInterrupt",
     "evalue": "",
     "output_type": "error",
     "traceback": [
      "\u001B[0;31m---------------------------------------------------------------------------\u001B[0m",
      "\u001B[0;31mKeyboardInterrupt\u001B[0m                         Traceback (most recent call last)",
      "\u001B[0;32m<ipython-input-46-e602fb9a0007>\u001B[0m in \u001B[0;36m<module>\u001B[0;34m\u001B[0m\n\u001B[1;32m      1\u001B[0m \u001B[0mfeat\u001B[0m \u001B[0;34m=\u001B[0m \u001B[0;34m[\u001B[0m\u001B[0;34m]\u001B[0m\u001B[0;34m\u001B[0m\u001B[0;34m\u001B[0m\u001B[0m\n\u001B[1;32m      2\u001B[0m \u001B[0;32mfor\u001B[0m \u001B[0mi\u001B[0m \u001B[0;32min\u001B[0m \u001B[0mtqdm\u001B[0m\u001B[0;34m.\u001B[0m\u001B[0mtqdm_notebook\u001B[0m\u001B[0;34m(\u001B[0m\u001B[0mtrain_idx\u001B[0m\u001B[0;34m[\u001B[0m\u001B[0;34m'paper'\u001B[0m\u001B[0;34m]\u001B[0m\u001B[0;34m)\u001B[0m\u001B[0;34m:\u001B[0m\u001B[0;34m\u001B[0m\u001B[0;34m\u001B[0m\u001B[0m\n\u001B[0;32m----> 3\u001B[0;31m     \u001B[0mfeat\u001B[0m\u001B[0;34m.\u001B[0m\u001B[0mappend\u001B[0m\u001B[0;34m(\u001B[0m\u001B[0mnp\u001B[0m\u001B[0;34m.\u001B[0m\u001B[0msum\u001B[0m\u001B[0;34m(\u001B[0m\u001B[0mnp\u001B[0m\u001B[0;34m.\u001B[0m\u001B[0mlog\u001B[0m\u001B[0;34m(\u001B[0m\u001B[0madj_\u001B[0m\u001B[0;34m[\u001B[0m\u001B[0mi\u001B[0m\u001B[0;34m]\u001B[0m\u001B[0;34m.\u001B[0m\u001B[0mdata\u001B[0m\u001B[0;34m)\u001B[0m\u001B[0;34m)\u001B[0m\u001B[0;34m)\u001B[0m\u001B[0;34m\u001B[0m\u001B[0;34m\u001B[0m\u001B[0m\n\u001B[0m\u001B[1;32m      4\u001B[0m     \u001B[0;31m#break\u001B[0m\u001B[0;34m\u001B[0m\u001B[0;34m\u001B[0m\u001B[0;34m\u001B[0m\u001B[0m\n\u001B[1;32m      5\u001B[0m \u001B[0;34m\u001B[0m\u001B[0m\n",
      "\u001B[0;32m~/anaconda3/envs/lola/lib/python3.7/site-packages/scipy/sparse/_index.py\u001B[0m in \u001B[0;36m__getitem__\u001B[0;34m(self, key)\u001B[0m\n\u001B[1;32m     37\u001B[0m                 \u001B[0;32mreturn\u001B[0m \u001B[0mself\u001B[0m\u001B[0;34m.\u001B[0m\u001B[0m_get_intXint\u001B[0m\u001B[0;34m(\u001B[0m\u001B[0mrow\u001B[0m\u001B[0;34m,\u001B[0m \u001B[0mcol\u001B[0m\u001B[0;34m)\u001B[0m\u001B[0;34m\u001B[0m\u001B[0;34m\u001B[0m\u001B[0m\n\u001B[1;32m     38\u001B[0m             \u001B[0;32melif\u001B[0m \u001B[0misinstance\u001B[0m\u001B[0;34m(\u001B[0m\u001B[0mcol\u001B[0m\u001B[0;34m,\u001B[0m \u001B[0mslice\u001B[0m\u001B[0;34m)\u001B[0m\u001B[0;34m:\u001B[0m\u001B[0;34m\u001B[0m\u001B[0;34m\u001B[0m\u001B[0m\n\u001B[0;32m---> 39\u001B[0;31m                 \u001B[0;32mreturn\u001B[0m \u001B[0mself\u001B[0m\u001B[0;34m.\u001B[0m\u001B[0m_get_intXslice\u001B[0m\u001B[0;34m(\u001B[0m\u001B[0mrow\u001B[0m\u001B[0;34m,\u001B[0m \u001B[0mcol\u001B[0m\u001B[0;34m)\u001B[0m\u001B[0;34m\u001B[0m\u001B[0;34m\u001B[0m\u001B[0m\n\u001B[0m\u001B[1;32m     40\u001B[0m             \u001B[0;32melif\u001B[0m \u001B[0mcol\u001B[0m\u001B[0;34m.\u001B[0m\u001B[0mndim\u001B[0m \u001B[0;34m==\u001B[0m \u001B[0;36m1\u001B[0m\u001B[0;34m:\u001B[0m\u001B[0;34m\u001B[0m\u001B[0;34m\u001B[0m\u001B[0m\n\u001B[1;32m     41\u001B[0m                 \u001B[0;32mreturn\u001B[0m \u001B[0mself\u001B[0m\u001B[0;34m.\u001B[0m\u001B[0m_get_intXarray\u001B[0m\u001B[0;34m(\u001B[0m\u001B[0mrow\u001B[0m\u001B[0;34m,\u001B[0m \u001B[0mcol\u001B[0m\u001B[0;34m)\u001B[0m\u001B[0;34m\u001B[0m\u001B[0;34m\u001B[0m\u001B[0m\n",
      "\u001B[0;32m~/anaconda3/envs/lola/lib/python3.7/site-packages/scipy/sparse/csc.py\u001B[0m in \u001B[0;36m_get_intXslice\u001B[0;34m(self, row, col)\u001B[0m\n\u001B[1;32m    209\u001B[0m     \u001B[0;32mdef\u001B[0m \u001B[0m_get_intXslice\u001B[0m\u001B[0;34m(\u001B[0m\u001B[0mself\u001B[0m\u001B[0;34m,\u001B[0m \u001B[0mrow\u001B[0m\u001B[0;34m,\u001B[0m \u001B[0mcol\u001B[0m\u001B[0;34m)\u001B[0m\u001B[0;34m:\u001B[0m\u001B[0;34m\u001B[0m\u001B[0;34m\u001B[0m\u001B[0m\n\u001B[1;32m    210\u001B[0m         \u001B[0;32mif\u001B[0m \u001B[0mcol\u001B[0m\u001B[0;34m.\u001B[0m\u001B[0mstep\u001B[0m \u001B[0;32min\u001B[0m \u001B[0;34m(\u001B[0m\u001B[0;36m1\u001B[0m\u001B[0;34m,\u001B[0m \u001B[0;32mNone\u001B[0m\u001B[0;34m)\u001B[0m\u001B[0;34m:\u001B[0m\u001B[0;34m\u001B[0m\u001B[0;34m\u001B[0m\u001B[0m\n\u001B[0;32m--> 211\u001B[0;31m             \u001B[0;32mreturn\u001B[0m \u001B[0mself\u001B[0m\u001B[0;34m.\u001B[0m\u001B[0m_get_submatrix\u001B[0m\u001B[0;34m(\u001B[0m\u001B[0mmajor\u001B[0m\u001B[0;34m=\u001B[0m\u001B[0mcol\u001B[0m\u001B[0;34m,\u001B[0m \u001B[0mminor\u001B[0m\u001B[0;34m=\u001B[0m\u001B[0mrow\u001B[0m\u001B[0;34m,\u001B[0m \u001B[0mcopy\u001B[0m\u001B[0;34m=\u001B[0m\u001B[0;32mTrue\u001B[0m\u001B[0;34m)\u001B[0m\u001B[0;34m\u001B[0m\u001B[0;34m\u001B[0m\u001B[0m\n\u001B[0m\u001B[1;32m    212\u001B[0m         \u001B[0;32mreturn\u001B[0m \u001B[0mself\u001B[0m\u001B[0;34m.\u001B[0m\u001B[0m_major_slice\u001B[0m\u001B[0;34m(\u001B[0m\u001B[0mcol\u001B[0m\u001B[0;34m)\u001B[0m\u001B[0;34m.\u001B[0m\u001B[0m_get_submatrix\u001B[0m\u001B[0;34m(\u001B[0m\u001B[0mminor\u001B[0m\u001B[0;34m=\u001B[0m\u001B[0mrow\u001B[0m\u001B[0;34m)\u001B[0m\u001B[0;34m\u001B[0m\u001B[0;34m\u001B[0m\u001B[0m\n\u001B[1;32m    213\u001B[0m \u001B[0;34m\u001B[0m\u001B[0m\n",
      "\u001B[0;32m~/anaconda3/envs/lola/lib/python3.7/site-packages/scipy/sparse/compressed.py\u001B[0m in \u001B[0;36m_get_submatrix\u001B[0;34m(self, major, minor, copy)\u001B[0m\n\u001B[1;32m    788\u001B[0m \u001B[0;34m\u001B[0m\u001B[0m\n\u001B[1;32m    789\u001B[0m         indptr, indices, data = get_csr_submatrix(\n\u001B[0;32m--> 790\u001B[0;31m             M, N, self.indptr, self.indices, self.data, i0, i1, j0, j1)\n\u001B[0m\u001B[1;32m    791\u001B[0m \u001B[0;34m\u001B[0m\u001B[0m\n\u001B[1;32m    792\u001B[0m         \u001B[0mshape\u001B[0m \u001B[0;34m=\u001B[0m \u001B[0mself\u001B[0m\u001B[0;34m.\u001B[0m\u001B[0m_swap\u001B[0m\u001B[0;34m(\u001B[0m\u001B[0;34m(\u001B[0m\u001B[0mi1\u001B[0m \u001B[0;34m-\u001B[0m \u001B[0mi0\u001B[0m\u001B[0;34m,\u001B[0m \u001B[0mj1\u001B[0m \u001B[0;34m-\u001B[0m \u001B[0mj0\u001B[0m\u001B[0;34m)\u001B[0m\u001B[0;34m)\u001B[0m\u001B[0;34m\u001B[0m\u001B[0;34m\u001B[0m\u001B[0m\n",
      "\u001B[0;31mKeyboardInterrupt\u001B[0m: "
     ]
    }
   ],
   "source": [
    "feat = []\n",
    "for i in tqdm.tqdm_notebook(train_idx['paper']):\n",
    "    feat.append(np.sum(np.log(adj_[i].data)))\n",
    "    #break"
   ],
   "metadata": {
    "collapsed": false,
    "pycharm": {
     "name": "#%%\n"
    }
   }
  },
  {
   "cell_type": "code",
   "execution_count": 202,
   "outputs": [],
   "source": [
    "def get_prime_adjacency(dict_):\n",
    "    \"\"\"\n",
    "    Helper function to create adjacency matrices with primes, using grakel dicts as input.\n",
    "    Currently we only utilize the edges. The dict has key, values in the form of:\n",
    "    (head, tail): relation\n",
    "    :param dict_: dict, The dict has key, values in the form of (head, tail): relation .\n",
    "    From grakel second argument per graph.\n",
    "    :return adj: np.array, with the prime-transformed relation numbers\n",
    "    \"\"\"\n",
    "    nodes = set()\n",
    "    rels = set()\n",
    "    for key, value in dict_.items():\n",
    "        nodes.add(key[0])\n",
    "        nodes.add(key[1])\n",
    "        rels.add(value)\n",
    "\n",
    "    nodes = sorted(nodes)\n",
    "    id2node = {}\n",
    "    node2id = {}\n",
    "    for i, n in enumerate(nodes):\n",
    "        id2node[i] = n\n",
    "        node2id[n] = i\n",
    "\n",
    "    rels = sorted(rels)\n",
    "    from sympy import nextprime\n",
    "    relid2prime = {}\n",
    "    prime2relid = {}\n",
    "    current_int = 2\n",
    "    for rel in rels:\n",
    "        cur_prime = nextprime(current_int)\n",
    "        relid2prime[rel] = cur_prime\n",
    "        prime2relid[cur_prime] = rel\n",
    "        current_int = cur_prime\n",
    "\n",
    "    adj = np.zeros((len(nodes), len(nodes)))\n",
    "    for key, value in dict_.items():\n",
    "        adj[node2id[key[0]], node2id[key[1]]] = relid2prime[value]\n",
    "    return adj\n",
    "\n",
    "prime_adj_all= [get_prime_adjacency(g[2]) for g in  G]\n",
    "prime_adj_train = [get_prime_adjacency(g[2]) for g in  G_train]\n",
    "prime_adj_test = [get_prime_adjacency(g[2]) for g in G_test]\n"
   ],
   "metadata": {
    "collapsed": false,
    "pycharm": {
     "name": "#%%\n"
    }
   }
  },
  {
   "cell_type": "code",
   "execution_count": 203,
   "outputs": [
    {
     "name": "stdout",
     "output_type": "stream",
     "text": [
      "Accuracy PP: 83.87%\n"
     ]
    }
   ],
   "source": [
    "from sklearn.decomposition import PCA, TruncatedSVD\n",
    "from sklearn.base import TransformerMixin\n",
    "from sklearn.metrics.pairwise import rbf_kernel, linear_kernel, polynomial_kernel, cosine_similarity, chi2_kernel\n",
    "\n",
    "class ProductPower(TransformerMixin):\n",
    "\n",
    "    def __init__(self, power=1, normalize=False, grakel_compatible=True, kernel='rbf'):\n",
    "        self.power = power\n",
    "        self.normalize = normalize\n",
    "        self.grakel_compatible = grakel_compatible\n",
    "        self.kernel_str = kernel\n",
    "        if self.kernel_str == 'rbf':\n",
    "            self.kernel_fn = rbf_kernel\n",
    "        elif self.kernel_str == 'linear':\n",
    "            self.kernel_fn = linear_kernel\n",
    "        elif self.kernel_str == 'cosine':\n",
    "            self.kernel_fn = cosine_similarity\n",
    "        elif self.kernel_str == 'chi2':\n",
    "            self.kernel_fn = chi2_kernel\n",
    "        else:\n",
    "            raise AttributeError(f'Kernel {self.kernel_str} is not understood!')\n",
    "        self.x_train = None\n",
    "        self.max_ = 1\n",
    "\n",
    "\n",
    "\n",
    "        #self.decompose = PCA(n_components='mle')\n",
    "\n",
    "    def fit(self, X, y=None):\n",
    "        x_tr = []\n",
    "        for x in X:\n",
    "            try:\n",
    "                max_array = np.max(x)\n",
    "            except ValueError:\n",
    "                # this is for empty adjacency like TOX21_AR\n",
    "                x_tr.append(np.array([0 for _ in range(self.power)]))\n",
    "                continue\n",
    "            if max_array > self.max_:\n",
    "                self.max_ = max_array\n",
    "            if self.grakel_compatible:\n",
    "                n = x.shape[0]\n",
    "                cur_feat = []\n",
    "                cur_x = x.copy()\n",
    "                # Power = 0 (1-hop, original Adjacency)\n",
    "                cur_prod = np.sum(np.log(cur_x[cur_x >0]))\n",
    "\n",
    "                if self.normalize:\n",
    "                    cur_prod = cur_prod / ((n**2)*np.log(self.max_))\n",
    "                cur_feat.append(cur_prod)\n",
    "                for p in range(1, self.power):\n",
    "                    cur_x = np.matmul(cur_x, x)\n",
    "                    cur_prod = np.sum(np.log(cur_x[cur_x >0]))\n",
    "                    if self.normalize:\n",
    "                        cur_prod = cur_prod / ((n**2)*np.log(self.max_**p))\n",
    "                    cur_prod -= cur_feat[-1]\n",
    "                    cur_feat.append(cur_prod)\n",
    "                x_tr.append(np.array(cur_feat))\n",
    "        if self.grakel_compatible:\n",
    "            x_tr = np.array(x_tr)\n",
    "            self.x_train = x_tr#self.kernel_fn(x_tr, x_tr)#x_tr\n",
    "        #print(self.x_train.shape)\n",
    "        return self\n",
    "\n",
    "    def transform(self, X):\n",
    "        x_tr = []\n",
    "        for x in X:\n",
    "            n = x.shape[0]\n",
    "            if n == 0:\n",
    "                x_tr.append(np.array([0 for _ in range(self.power)]))\n",
    "                continue\n",
    "            cur_feat = []\n",
    "            cur_x = x.copy()\n",
    "            # Power = 0 (1-hop, original Adjacency)\n",
    "            cur_prod = np.sum(np.log(cur_x[cur_x >0]))\n",
    "            if self.normalize:\n",
    "                cur_prod = cur_prod / ((n**2)*np.log(self.max_))\n",
    "            cur_feat.append(cur_prod)\n",
    "            for p in range(1, self.power):\n",
    "                cur_x = np.matmul(cur_x, x)\n",
    "                cur_prod = np.sum(np.log(cur_x[cur_x >0]))\n",
    "                if self.normalize:\n",
    "                    cur_prod = cur_prod / ((n**2)*np.log(self.max_**p))\n",
    "                cur_prod -= cur_feat[-1]\n",
    "                cur_feat.append(cur_prod)\n",
    "            x_tr.append(np.array(cur_feat))\n",
    "        x_tr = np.array(x_tr)\n",
    "        if self.grakel_compatible:\n",
    "            #print('TRANFORM: ', x_tr.shape, self.x_train.shape)\n",
    "            x_tr_orig = x_tr.copy()\n",
    "            gamma = 1 / (x_tr.shape[1] * self.x_train.var())\n",
    "            x_tr = self.kernel_fn(x_tr, self.x_train, gamma=gamma)\n",
    "            #X_diag = np.einsum('ij,ij->i', self.x_train, self.x_train)\n",
    "            #Y_diag = np.einsum('ij,ij->i', x_tr_orig, x_tr_orig)\n",
    "            #print(X_diag.shape, Y_diag.shape)\n",
    "            #print(np.outer(Y_diag, X_diag).shape)\n",
    "            #print(x_tr.shape)\n",
    "            #x_tr /= np.sqrt(np.outer(Y_diag, X_diag))\n",
    "        return x_tr\n",
    "\n",
    "pp = ProductPower(power=3, normalize=False, grakel_compatible=False, kernel='rbf')\n",
    "X_train = pp.fit_transform(prime_adj_train, y_train)\n",
    "X_test = pp.transform(prime_adj_test)\n",
    "\n",
    "clf = SVC(kernel='rbf')\n",
    "clf.fit(X_train, y_train)\n",
    "y_pred = clf.predict(X_test)\n",
    "\n",
    "# Computes and prints the classification accuracy\n",
    "acc = accuracy_score(y_test, y_pred)\n",
    "print(\"Accuracy PP:\", str(round(acc*100, 2)) + \"%\")"
   ],
   "metadata": {
    "collapsed": false,
    "pycharm": {
     "name": "#%%\n"
    }
   }
  },
  {
   "cell_type": "code",
   "execution_count": 213,
   "outputs": [
    {
     "name": "stdout",
     "output_type": "stream",
     "text": [
      "Accuracy Decomp: 87.1%\n"
     ]
    }
   ],
   "source": [
    "from sklearn.decomposition import TruncatedSVD, IncrementalPCA\n",
    "\n",
    "class Decomposer(TransformerMixin):\n",
    "\n",
    "    def __init__(self, power=1, n_components=10, grakel_compatible=True, kernel='rbf'):\n",
    "        self.power = power\n",
    "        self.n_components = n_components\n",
    "        self.decomposition_method = IncrementalPCA\n",
    "        self.grakel_compatible = grakel_compatible\n",
    "        self.kernel_str = kernel\n",
    "        if self.kernel_str == 'rbf':\n",
    "            self.kernel_fn = rbf_kernel\n",
    "        elif self.kernel_str == 'linear':\n",
    "            self.kernel_fn = linear_kernel\n",
    "        elif self.kernel_str == 'cosine':\n",
    "            self.kernel_fn = cosine_similarity\n",
    "        elif self.kernel_str == 'chi2':\n",
    "            self.kernel_fn = chi2_kernel\n",
    "        else:\n",
    "            raise AttributeError(f'Kernel {self.kernel_str} is not understood!')\n",
    "        self.x_train = None\n",
    "\n",
    "\n",
    "\n",
    "        #self.decompose = PCA(n_components='mle')\n",
    "\n",
    "    def fit(self, X, y=None):\n",
    "        x_tr = []\n",
    "        if self.grakel_compatible:\n",
    "            for x in X:\n",
    "                n = x.shape[0]\n",
    "                cur_feat = []\n",
    "                cur_x = x.copy()\n",
    "                # Power = 0 (1-hop, original Adjacency)\n",
    "                cur_components = self.n_components if self.n_components < cur_x.shape[1] else cur_x.shape[1] - 1\n",
    "                td = self.decomposition_method(cur_components)\n",
    "                _ = td.fit_transform(cur_x)\n",
    "                cur_prod = td.singular_values_[:cur_components]\n",
    "                cur_feat.append(cur_prod)\n",
    "                for p in range(1, self.power):\n",
    "                    cur_x = np.matmul(cur_x, x)\n",
    "                    cur_components = self.n_components if self.n_components < cur_x.shape[1] else cur_x.shape[1] - 1\n",
    "                    td = self.decomposition_method(cur_components)\n",
    "                    _ = td.fit_transform(cur_x)\n",
    "                    cur_prod = td.singular_values_[:cur_components]\n",
    "                    cur_feat.append(cur_prod)\n",
    "                x_tr.append(np.array(cur_feat).flatten())\n",
    "            x_tr = np.array(x_tr)\n",
    "            self.x_train = x_tr#self.kernel_fn(x_tr, x_tr)#x_tr\n",
    "        #print(self.x_train.shape)\n",
    "        return self\n",
    "\n",
    "    def transform(self, X):\n",
    "        x_tr = []\n",
    "        for x in X:\n",
    "            n = x.shape[0]\n",
    "            if n == 0:\n",
    "                x_tr.append(np.array([0 for _ in range(self.power)]))\n",
    "                continue\n",
    "            cur_feat = []\n",
    "            cur_x = x.copy()\n",
    "            # Power = 0 (1-hop, original Adjacency)\n",
    "            td = self.decomposition_method(self.n_components)\n",
    "            _ = td.fit_transform(cur_x)\n",
    "            cur_prod = td.singular_values_[:self.n_components]\n",
    "            cur_feat.append(cur_prod)\n",
    "            for p in range(1, self.power):\n",
    "                cur_x = np.matmul(cur_x, x)\n",
    "                td = self.decomposition_method(self.n_components)\n",
    "                _ = td.fit_transform(cur_x)\n",
    "                cur_prod = td.singular_values_[:self.n_components]\n",
    "                cur_feat.append(cur_prod)\n",
    "            x_tr.append(np.array(cur_feat).flatten())\n",
    "        x_tr = np.array(x_tr)\n",
    "        if self.grakel_compatible:\n",
    "            #print('TRANFORM: ', x_tr.shape, self.x_train.shape)\n",
    "            x_tr_orig = x_tr.copy()\n",
    "            gamma = 1 / (x_tr.shape[1] * self.x_train.var())\n",
    "            x_tr = self.kernel_fn(x_tr, self.x_train, gamma=gamma)\n",
    "            #X_diag = np.einsum('ij,ij->i', self.x_train, self.x_train)\n",
    "            #Y_diag = np.einsum('ij,ij->i', x_tr_orig, x_tr_orig)\n",
    "            #print(X_diag.shape, Y_diag.shape)\n",
    "            #print(np.outer(Y_diag, X_diag).shape)\n",
    "            #print(x_tr.shape)\n",
    "            #x_tr /= np.sqrt(np.outer(Y_diag, X_diag))\n",
    "        return x_tr\n",
    "\n",
    "\n",
    "from sklearn.preprocessing import StandardScaler\n",
    "from sklearn.pipeline import make_pipeline\n",
    "\n",
    "dd = Decomposer(power=3, n_components=2, grakel_compatible=False, kernel='rbf')\n",
    "X_train = dd.fit_transform(prime_adj_train, y_train)\n",
    "X_test = dd.transform(prime_adj_test)\n",
    "\n",
    "clf = make_pipeline(StandardScaler(), SVC(kernel='rbf', random_state=42))\n",
    "clf.fit(X_train, y_train)\n",
    "y_pred = clf.predict(X_test)\n",
    "\n",
    "# Computes and prints the classification accuracy\n",
    "acc = accuracy_score(y_test, y_pred)\n",
    "print(\"Accuracy Decomp:\", str(round(acc*100, 2)) + \"%\")\n"
   ],
   "metadata": {
    "collapsed": false,
    "pycharm": {
     "name": "#%%\n"
    }
   }
  },
  {
   "cell_type": "code",
   "execution_count": 200,
   "outputs": [
    {
     "name": "stdout",
     "output_type": "stream",
     "text": [
      "1600 1800\n"
     ]
    }
   ],
   "source": [
    "print(len(X_train), len(y_train))"
   ],
   "metadata": {
    "collapsed": false,
    "pycharm": {
     "name": "#%%\n"
    }
   }
  },
  {
   "cell_type": "code",
   "execution_count": 181,
   "outputs": [
    {
     "name": "stdout",
     "output_type": "stream",
     "text": [
      "Took 5.67712 second to calculate the kernels!\n"
     ]
    },
    {
     "ename": "KeyboardInterrupt",
     "evalue": "",
     "output_type": "error",
     "traceback": [
      "\u001B[0;31m---------------------------------------------------------------------------\u001B[0m",
      "\u001B[0;31mKeyboardInterrupt\u001B[0m                         Traceback (most recent call last)",
      "\u001B[0;32m<ipython-input-181-8cd1fce128dc>\u001B[0m in \u001B[0;36m<module>\u001B[0;34m\u001B[0m\n\u001B[1;32m     22\u001B[0m \u001B[0;31m# Performs 10-fold cross-validation over different kernels and the parameter C of\u001B[0m\u001B[0;34m\u001B[0m\u001B[0;34m\u001B[0m\u001B[0;34m\u001B[0m\u001B[0m\n\u001B[1;32m     23\u001B[0m \u001B[0;31m# SVM and repeats the experiment 10 times with different folds\u001B[0m\u001B[0;34m\u001B[0m\u001B[0;34m\u001B[0m\u001B[0;34m\u001B[0m\u001B[0m\n\u001B[0;32m---> 24\u001B[0;31m \u001B[0maccs\u001B[0m \u001B[0;34m=\u001B[0m \u001B[0mcross_validate_Kfold_SVM\u001B[0m\u001B[0;34m(\u001B[0m\u001B[0;34m[\u001B[0m\u001B[0mKs\u001B[0m\u001B[0;34m]\u001B[0m\u001B[0;34m,\u001B[0m \u001B[0my\u001B[0m\u001B[0;34m,\u001B[0m \u001B[0mn_iter\u001B[0m\u001B[0;34m=\u001B[0m\u001B[0;36m10\u001B[0m\u001B[0;34m)\u001B[0m\u001B[0;34m\u001B[0m\u001B[0;34m\u001B[0m\u001B[0m\n\u001B[0m\u001B[1;32m     25\u001B[0m \u001B[0mprint\u001B[0m\u001B[0;34m(\u001B[0m\u001B[0;34m\"Average accuracy:\"\u001B[0m\u001B[0;34m,\u001B[0m \u001B[0mstr\u001B[0m\u001B[0;34m(\u001B[0m\u001B[0mround\u001B[0m\u001B[0;34m(\u001B[0m\u001B[0mnp\u001B[0m\u001B[0;34m.\u001B[0m\u001B[0mmean\u001B[0m\u001B[0;34m(\u001B[0m\u001B[0maccs\u001B[0m\u001B[0;34m[\u001B[0m\u001B[0;36m0\u001B[0m\u001B[0;34m]\u001B[0m\u001B[0;34m)\u001B[0m\u001B[0;34m*\u001B[0m\u001B[0;36m100\u001B[0m\u001B[0;34m,\u001B[0m \u001B[0;36m2\u001B[0m\u001B[0;34m)\u001B[0m\u001B[0;34m)\u001B[0m \u001B[0;34m+\u001B[0m \u001B[0;34m\"%\"\u001B[0m\u001B[0;34m)\u001B[0m\u001B[0;34m\u001B[0m\u001B[0;34m\u001B[0m\u001B[0m\n\u001B[1;32m     26\u001B[0m \u001B[0mprint\u001B[0m\u001B[0;34m(\u001B[0m\u001B[0;34m\"Standard deviation:\"\u001B[0m\u001B[0;34m,\u001B[0m \u001B[0mstr\u001B[0m\u001B[0;34m(\u001B[0m\u001B[0mround\u001B[0m\u001B[0;34m(\u001B[0m\u001B[0mnp\u001B[0m\u001B[0;34m.\u001B[0m\u001B[0mstd\u001B[0m\u001B[0;34m(\u001B[0m\u001B[0maccs\u001B[0m\u001B[0;34m[\u001B[0m\u001B[0;36m0\u001B[0m\u001B[0;34m]\u001B[0m\u001B[0;34m)\u001B[0m\u001B[0;34m*\u001B[0m\u001B[0;36m100\u001B[0m\u001B[0;34m,\u001B[0m \u001B[0;36m2\u001B[0m\u001B[0;34m)\u001B[0m\u001B[0;34m)\u001B[0m \u001B[0;34m+\u001B[0m \u001B[0;34m\"%\"\u001B[0m\u001B[0;34m)\u001B[0m\u001B[0;34m\u001B[0m\u001B[0;34m\u001B[0m\u001B[0m\n",
      "\u001B[0;32m~/anaconda3/envs/lola/lib/python3.7/site-packages/grakel/utils.py\u001B[0m in \u001B[0;36mcross_validate_Kfold_SVM\u001B[0;34m(K, y, n_iter, n_splits, C_grid, random_state, scoring, fold_reduce)\u001B[0m\n\u001B[1;32m    219\u001B[0m                                   cv=ShuffleSplit(n_splits=1,\n\u001B[1;32m    220\u001B[0m                                                   \u001B[0mtest_size\u001B[0m\u001B[0;34m=\u001B[0m\u001B[0;36m0.1\u001B[0m\u001B[0;34m,\u001B[0m\u001B[0;34m\u001B[0m\u001B[0;34m\u001B[0m\u001B[0m\n\u001B[0;32m--> 221\u001B[0;31m                                                   random_state=random_state)).fit(train, y[train])\n\u001B[0m\u001B[1;32m    222\u001B[0m                 \u001B[0mfold_info\u001B[0m\u001B[0;34m.\u001B[0m\u001B[0mappend\u001B[0m\u001B[0;34m(\u001B[0m\u001B[0mgs\u001B[0m\u001B[0;34m.\u001B[0m\u001B[0mscore\u001B[0m\u001B[0;34m(\u001B[0m\u001B[0mtest\u001B[0m\u001B[0;34m,\u001B[0m \u001B[0my\u001B[0m\u001B[0;34m[\u001B[0m\u001B[0mtest\u001B[0m\u001B[0;34m]\u001B[0m\u001B[0;34m)\u001B[0m\u001B[0;34m)\u001B[0m\u001B[0;34m\u001B[0m\u001B[0;34m\u001B[0m\u001B[0m\n\u001B[1;32m    223\u001B[0m             \u001B[0mmid\u001B[0m\u001B[0;34m.\u001B[0m\u001B[0mappend\u001B[0m\u001B[0;34m(\u001B[0m\u001B[0mfold_reduce\u001B[0m\u001B[0;34m(\u001B[0m\u001B[0mfold_info\u001B[0m\u001B[0;34m)\u001B[0m\u001B[0;34m)\u001B[0m\u001B[0;34m\u001B[0m\u001B[0;34m\u001B[0m\u001B[0m\n",
      "\u001B[0;32m~/anaconda3/envs/lola/lib/python3.7/site-packages/sklearn/utils/validation.py\u001B[0m in \u001B[0;36minner_f\u001B[0;34m(*args, **kwargs)\u001B[0m\n\u001B[1;32m     61\u001B[0m             \u001B[0mextra_args\u001B[0m \u001B[0;34m=\u001B[0m \u001B[0mlen\u001B[0m\u001B[0;34m(\u001B[0m\u001B[0margs\u001B[0m\u001B[0;34m)\u001B[0m \u001B[0;34m-\u001B[0m \u001B[0mlen\u001B[0m\u001B[0;34m(\u001B[0m\u001B[0mall_args\u001B[0m\u001B[0;34m)\u001B[0m\u001B[0;34m\u001B[0m\u001B[0;34m\u001B[0m\u001B[0m\n\u001B[1;32m     62\u001B[0m             \u001B[0;32mif\u001B[0m \u001B[0mextra_args\u001B[0m \u001B[0;34m<=\u001B[0m \u001B[0;36m0\u001B[0m\u001B[0;34m:\u001B[0m\u001B[0;34m\u001B[0m\u001B[0;34m\u001B[0m\u001B[0m\n\u001B[0;32m---> 63\u001B[0;31m                 \u001B[0;32mreturn\u001B[0m \u001B[0mf\u001B[0m\u001B[0;34m(\u001B[0m\u001B[0;34m*\u001B[0m\u001B[0margs\u001B[0m\u001B[0;34m,\u001B[0m \u001B[0;34m**\u001B[0m\u001B[0mkwargs\u001B[0m\u001B[0;34m)\u001B[0m\u001B[0;34m\u001B[0m\u001B[0;34m\u001B[0m\u001B[0m\n\u001B[0m\u001B[1;32m     64\u001B[0m \u001B[0;34m\u001B[0m\u001B[0m\n\u001B[1;32m     65\u001B[0m             \u001B[0;31m# extra_args > 0\u001B[0m\u001B[0;34m\u001B[0m\u001B[0;34m\u001B[0m\u001B[0;34m\u001B[0m\u001B[0m\n",
      "\u001B[0;32m~/anaconda3/envs/lola/lib/python3.7/site-packages/sklearn/model_selection/_search.py\u001B[0m in \u001B[0;36mfit\u001B[0;34m(self, X, y, groups, **fit_params)\u001B[0m\n\u001B[1;32m    839\u001B[0m                 \u001B[0;32mreturn\u001B[0m \u001B[0mresults\u001B[0m\u001B[0;34m\u001B[0m\u001B[0;34m\u001B[0m\u001B[0m\n\u001B[1;32m    840\u001B[0m \u001B[0;34m\u001B[0m\u001B[0m\n\u001B[0;32m--> 841\u001B[0;31m             \u001B[0mself\u001B[0m\u001B[0;34m.\u001B[0m\u001B[0m_run_search\u001B[0m\u001B[0;34m(\u001B[0m\u001B[0mevaluate_candidates\u001B[0m\u001B[0;34m)\u001B[0m\u001B[0;34m\u001B[0m\u001B[0;34m\u001B[0m\u001B[0m\n\u001B[0m\u001B[1;32m    842\u001B[0m \u001B[0;34m\u001B[0m\u001B[0m\n\u001B[1;32m    843\u001B[0m             \u001B[0;31m# multimetric is determined here because in the case of a callable\u001B[0m\u001B[0;34m\u001B[0m\u001B[0;34m\u001B[0m\u001B[0;34m\u001B[0m\u001B[0m\n",
      "\u001B[0;32m~/anaconda3/envs/lola/lib/python3.7/site-packages/sklearn/model_selection/_search.py\u001B[0m in \u001B[0;36m_run_search\u001B[0;34m(self, evaluate_candidates)\u001B[0m\n\u001B[1;32m   1294\u001B[0m     \u001B[0;32mdef\u001B[0m \u001B[0m_run_search\u001B[0m\u001B[0;34m(\u001B[0m\u001B[0mself\u001B[0m\u001B[0;34m,\u001B[0m \u001B[0mevaluate_candidates\u001B[0m\u001B[0;34m)\u001B[0m\u001B[0;34m:\u001B[0m\u001B[0;34m\u001B[0m\u001B[0;34m\u001B[0m\u001B[0m\n\u001B[1;32m   1295\u001B[0m         \u001B[0;34m\"\"\"Search all candidates in param_grid\"\"\"\u001B[0m\u001B[0;34m\u001B[0m\u001B[0;34m\u001B[0m\u001B[0m\n\u001B[0;32m-> 1296\u001B[0;31m         \u001B[0mevaluate_candidates\u001B[0m\u001B[0;34m(\u001B[0m\u001B[0mParameterGrid\u001B[0m\u001B[0;34m(\u001B[0m\u001B[0mself\u001B[0m\u001B[0;34m.\u001B[0m\u001B[0mparam_grid\u001B[0m\u001B[0;34m)\u001B[0m\u001B[0;34m)\u001B[0m\u001B[0;34m\u001B[0m\u001B[0;34m\u001B[0m\u001B[0m\n\u001B[0m\u001B[1;32m   1297\u001B[0m \u001B[0;34m\u001B[0m\u001B[0m\n\u001B[1;32m   1298\u001B[0m \u001B[0;34m\u001B[0m\u001B[0m\n",
      "\u001B[0;32m~/anaconda3/envs/lola/lib/python3.7/site-packages/sklearn/model_selection/_search.py\u001B[0m in \u001B[0;36mevaluate_candidates\u001B[0;34m(candidate_params, cv, more_results)\u001B[0m\n\u001B[1;32m    807\u001B[0m                                    (split_idx, (train, test)) in product(\n\u001B[1;32m    808\u001B[0m                                    \u001B[0menumerate\u001B[0m\u001B[0;34m(\u001B[0m\u001B[0mcandidate_params\u001B[0m\u001B[0;34m)\u001B[0m\u001B[0;34m,\u001B[0m\u001B[0;34m\u001B[0m\u001B[0;34m\u001B[0m\u001B[0m\n\u001B[0;32m--> 809\u001B[0;31m                                    enumerate(cv.split(X, y, groups))))\n\u001B[0m\u001B[1;32m    810\u001B[0m \u001B[0;34m\u001B[0m\u001B[0m\n\u001B[1;32m    811\u001B[0m                 \u001B[0;32mif\u001B[0m \u001B[0mlen\u001B[0m\u001B[0;34m(\u001B[0m\u001B[0mout\u001B[0m\u001B[0;34m)\u001B[0m \u001B[0;34m<\u001B[0m \u001B[0;36m1\u001B[0m\u001B[0;34m:\u001B[0m\u001B[0;34m\u001B[0m\u001B[0;34m\u001B[0m\u001B[0m\n",
      "\u001B[0;32m~/anaconda3/envs/lola/lib/python3.7/site-packages/joblib/parallel.py\u001B[0m in \u001B[0;36m__call__\u001B[0;34m(self, iterable)\u001B[0m\n\u001B[1;32m   1042\u001B[0m                 \u001B[0mself\u001B[0m\u001B[0;34m.\u001B[0m\u001B[0m_iterating\u001B[0m \u001B[0;34m=\u001B[0m \u001B[0mself\u001B[0m\u001B[0;34m.\u001B[0m\u001B[0m_original_iterator\u001B[0m \u001B[0;32mis\u001B[0m \u001B[0;32mnot\u001B[0m \u001B[0;32mNone\u001B[0m\u001B[0;34m\u001B[0m\u001B[0;34m\u001B[0m\u001B[0m\n\u001B[1;32m   1043\u001B[0m \u001B[0;34m\u001B[0m\u001B[0m\n\u001B[0;32m-> 1044\u001B[0;31m             \u001B[0;32mwhile\u001B[0m \u001B[0mself\u001B[0m\u001B[0;34m.\u001B[0m\u001B[0mdispatch_one_batch\u001B[0m\u001B[0;34m(\u001B[0m\u001B[0miterator\u001B[0m\u001B[0;34m)\u001B[0m\u001B[0;34m:\u001B[0m\u001B[0;34m\u001B[0m\u001B[0;34m\u001B[0m\u001B[0m\n\u001B[0m\u001B[1;32m   1045\u001B[0m                 \u001B[0;32mpass\u001B[0m\u001B[0;34m\u001B[0m\u001B[0;34m\u001B[0m\u001B[0m\n\u001B[1;32m   1046\u001B[0m \u001B[0;34m\u001B[0m\u001B[0m\n",
      "\u001B[0;32m~/anaconda3/envs/lola/lib/python3.7/site-packages/joblib/parallel.py\u001B[0m in \u001B[0;36mdispatch_one_batch\u001B[0;34m(self, iterator)\u001B[0m\n\u001B[1;32m    857\u001B[0m                 \u001B[0;32mreturn\u001B[0m \u001B[0;32mFalse\u001B[0m\u001B[0;34m\u001B[0m\u001B[0;34m\u001B[0m\u001B[0m\n\u001B[1;32m    858\u001B[0m             \u001B[0;32melse\u001B[0m\u001B[0;34m:\u001B[0m\u001B[0;34m\u001B[0m\u001B[0;34m\u001B[0m\u001B[0m\n\u001B[0;32m--> 859\u001B[0;31m                 \u001B[0mself\u001B[0m\u001B[0;34m.\u001B[0m\u001B[0m_dispatch\u001B[0m\u001B[0;34m(\u001B[0m\u001B[0mtasks\u001B[0m\u001B[0;34m)\u001B[0m\u001B[0;34m\u001B[0m\u001B[0;34m\u001B[0m\u001B[0m\n\u001B[0m\u001B[1;32m    860\u001B[0m                 \u001B[0;32mreturn\u001B[0m \u001B[0;32mTrue\u001B[0m\u001B[0;34m\u001B[0m\u001B[0;34m\u001B[0m\u001B[0m\n\u001B[1;32m    861\u001B[0m \u001B[0;34m\u001B[0m\u001B[0m\n",
      "\u001B[0;32m~/anaconda3/envs/lola/lib/python3.7/site-packages/joblib/parallel.py\u001B[0m in \u001B[0;36m_dispatch\u001B[0;34m(self, batch)\u001B[0m\n\u001B[1;32m    775\u001B[0m         \u001B[0;32mwith\u001B[0m \u001B[0mself\u001B[0m\u001B[0;34m.\u001B[0m\u001B[0m_lock\u001B[0m\u001B[0;34m:\u001B[0m\u001B[0;34m\u001B[0m\u001B[0;34m\u001B[0m\u001B[0m\n\u001B[1;32m    776\u001B[0m             \u001B[0mjob_idx\u001B[0m \u001B[0;34m=\u001B[0m \u001B[0mlen\u001B[0m\u001B[0;34m(\u001B[0m\u001B[0mself\u001B[0m\u001B[0;34m.\u001B[0m\u001B[0m_jobs\u001B[0m\u001B[0;34m)\u001B[0m\u001B[0;34m\u001B[0m\u001B[0;34m\u001B[0m\u001B[0m\n\u001B[0;32m--> 777\u001B[0;31m             \u001B[0mjob\u001B[0m \u001B[0;34m=\u001B[0m \u001B[0mself\u001B[0m\u001B[0;34m.\u001B[0m\u001B[0m_backend\u001B[0m\u001B[0;34m.\u001B[0m\u001B[0mapply_async\u001B[0m\u001B[0;34m(\u001B[0m\u001B[0mbatch\u001B[0m\u001B[0;34m,\u001B[0m \u001B[0mcallback\u001B[0m\u001B[0;34m=\u001B[0m\u001B[0mcb\u001B[0m\u001B[0;34m)\u001B[0m\u001B[0;34m\u001B[0m\u001B[0;34m\u001B[0m\u001B[0m\n\u001B[0m\u001B[1;32m    778\u001B[0m             \u001B[0;31m# A job can complete so quickly than its callback is\u001B[0m\u001B[0;34m\u001B[0m\u001B[0;34m\u001B[0m\u001B[0;34m\u001B[0m\u001B[0m\n\u001B[1;32m    779\u001B[0m             \u001B[0;31m# called before we get here, causing self._jobs to\u001B[0m\u001B[0;34m\u001B[0m\u001B[0;34m\u001B[0m\u001B[0;34m\u001B[0m\u001B[0m\n",
      "\u001B[0;32m~/anaconda3/envs/lola/lib/python3.7/site-packages/joblib/_parallel_backends.py\u001B[0m in \u001B[0;36mapply_async\u001B[0;34m(self, func, callback)\u001B[0m\n\u001B[1;32m    206\u001B[0m     \u001B[0;32mdef\u001B[0m \u001B[0mapply_async\u001B[0m\u001B[0;34m(\u001B[0m\u001B[0mself\u001B[0m\u001B[0;34m,\u001B[0m \u001B[0mfunc\u001B[0m\u001B[0;34m,\u001B[0m \u001B[0mcallback\u001B[0m\u001B[0;34m=\u001B[0m\u001B[0;32mNone\u001B[0m\u001B[0;34m)\u001B[0m\u001B[0;34m:\u001B[0m\u001B[0;34m\u001B[0m\u001B[0;34m\u001B[0m\u001B[0m\n\u001B[1;32m    207\u001B[0m         \u001B[0;34m\"\"\"Schedule a func to be run\"\"\"\u001B[0m\u001B[0;34m\u001B[0m\u001B[0;34m\u001B[0m\u001B[0m\n\u001B[0;32m--> 208\u001B[0;31m         \u001B[0mresult\u001B[0m \u001B[0;34m=\u001B[0m \u001B[0mImmediateResult\u001B[0m\u001B[0;34m(\u001B[0m\u001B[0mfunc\u001B[0m\u001B[0;34m)\u001B[0m\u001B[0;34m\u001B[0m\u001B[0;34m\u001B[0m\u001B[0m\n\u001B[0m\u001B[1;32m    209\u001B[0m         \u001B[0;32mif\u001B[0m \u001B[0mcallback\u001B[0m\u001B[0;34m:\u001B[0m\u001B[0;34m\u001B[0m\u001B[0;34m\u001B[0m\u001B[0m\n\u001B[1;32m    210\u001B[0m             \u001B[0mcallback\u001B[0m\u001B[0;34m(\u001B[0m\u001B[0mresult\u001B[0m\u001B[0;34m)\u001B[0m\u001B[0;34m\u001B[0m\u001B[0;34m\u001B[0m\u001B[0m\n",
      "\u001B[0;32m~/anaconda3/envs/lola/lib/python3.7/site-packages/joblib/_parallel_backends.py\u001B[0m in \u001B[0;36m__init__\u001B[0;34m(self, batch)\u001B[0m\n\u001B[1;32m    570\u001B[0m         \u001B[0;31m# Don't delay the application, to avoid keeping the input\u001B[0m\u001B[0;34m\u001B[0m\u001B[0;34m\u001B[0m\u001B[0;34m\u001B[0m\u001B[0m\n\u001B[1;32m    571\u001B[0m         \u001B[0;31m# arguments in memory\u001B[0m\u001B[0;34m\u001B[0m\u001B[0;34m\u001B[0m\u001B[0;34m\u001B[0m\u001B[0m\n\u001B[0;32m--> 572\u001B[0;31m         \u001B[0mself\u001B[0m\u001B[0;34m.\u001B[0m\u001B[0mresults\u001B[0m \u001B[0;34m=\u001B[0m \u001B[0mbatch\u001B[0m\u001B[0;34m(\u001B[0m\u001B[0;34m)\u001B[0m\u001B[0;34m\u001B[0m\u001B[0;34m\u001B[0m\u001B[0m\n\u001B[0m\u001B[1;32m    573\u001B[0m \u001B[0;34m\u001B[0m\u001B[0m\n\u001B[1;32m    574\u001B[0m     \u001B[0;32mdef\u001B[0m \u001B[0mget\u001B[0m\u001B[0;34m(\u001B[0m\u001B[0mself\u001B[0m\u001B[0;34m)\u001B[0m\u001B[0;34m:\u001B[0m\u001B[0;34m\u001B[0m\u001B[0;34m\u001B[0m\u001B[0m\n",
      "\u001B[0;32m~/anaconda3/envs/lola/lib/python3.7/site-packages/joblib/parallel.py\u001B[0m in \u001B[0;36m__call__\u001B[0;34m(self)\u001B[0m\n\u001B[1;32m    261\u001B[0m         \u001B[0;32mwith\u001B[0m \u001B[0mparallel_backend\u001B[0m\u001B[0;34m(\u001B[0m\u001B[0mself\u001B[0m\u001B[0;34m.\u001B[0m\u001B[0m_backend\u001B[0m\u001B[0;34m,\u001B[0m \u001B[0mn_jobs\u001B[0m\u001B[0;34m=\u001B[0m\u001B[0mself\u001B[0m\u001B[0;34m.\u001B[0m\u001B[0m_n_jobs\u001B[0m\u001B[0;34m)\u001B[0m\u001B[0;34m:\u001B[0m\u001B[0;34m\u001B[0m\u001B[0;34m\u001B[0m\u001B[0m\n\u001B[1;32m    262\u001B[0m             return [func(*args, **kwargs)\n\u001B[0;32m--> 263\u001B[0;31m                     for func, args, kwargs in self.items]\n\u001B[0m\u001B[1;32m    264\u001B[0m \u001B[0;34m\u001B[0m\u001B[0m\n\u001B[1;32m    265\u001B[0m     \u001B[0;32mdef\u001B[0m \u001B[0m__reduce__\u001B[0m\u001B[0;34m(\u001B[0m\u001B[0mself\u001B[0m\u001B[0;34m)\u001B[0m\u001B[0;34m:\u001B[0m\u001B[0;34m\u001B[0m\u001B[0;34m\u001B[0m\u001B[0m\n",
      "\u001B[0;32m~/anaconda3/envs/lola/lib/python3.7/site-packages/joblib/parallel.py\u001B[0m in \u001B[0;36m<listcomp>\u001B[0;34m(.0)\u001B[0m\n\u001B[1;32m    261\u001B[0m         \u001B[0;32mwith\u001B[0m \u001B[0mparallel_backend\u001B[0m\u001B[0;34m(\u001B[0m\u001B[0mself\u001B[0m\u001B[0;34m.\u001B[0m\u001B[0m_backend\u001B[0m\u001B[0;34m,\u001B[0m \u001B[0mn_jobs\u001B[0m\u001B[0;34m=\u001B[0m\u001B[0mself\u001B[0m\u001B[0;34m.\u001B[0m\u001B[0m_n_jobs\u001B[0m\u001B[0;34m)\u001B[0m\u001B[0;34m:\u001B[0m\u001B[0;34m\u001B[0m\u001B[0;34m\u001B[0m\u001B[0m\n\u001B[1;32m    262\u001B[0m             return [func(*args, **kwargs)\n\u001B[0;32m--> 263\u001B[0;31m                     for func, args, kwargs in self.items]\n\u001B[0m\u001B[1;32m    264\u001B[0m \u001B[0;34m\u001B[0m\u001B[0m\n\u001B[1;32m    265\u001B[0m     \u001B[0;32mdef\u001B[0m \u001B[0m__reduce__\u001B[0m\u001B[0;34m(\u001B[0m\u001B[0mself\u001B[0m\u001B[0;34m)\u001B[0m\u001B[0;34m:\u001B[0m\u001B[0;34m\u001B[0m\u001B[0;34m\u001B[0m\u001B[0m\n",
      "\u001B[0;32m~/anaconda3/envs/lola/lib/python3.7/site-packages/sklearn/utils/fixes.py\u001B[0m in \u001B[0;36m__call__\u001B[0;34m(self, *args, **kwargs)\u001B[0m\n\u001B[1;32m    220\u001B[0m     \u001B[0;32mdef\u001B[0m \u001B[0m__call__\u001B[0m\u001B[0;34m(\u001B[0m\u001B[0mself\u001B[0m\u001B[0;34m,\u001B[0m \u001B[0;34m*\u001B[0m\u001B[0margs\u001B[0m\u001B[0;34m,\u001B[0m \u001B[0;34m**\u001B[0m\u001B[0mkwargs\u001B[0m\u001B[0;34m)\u001B[0m\u001B[0;34m:\u001B[0m\u001B[0;34m\u001B[0m\u001B[0;34m\u001B[0m\u001B[0m\n\u001B[1;32m    221\u001B[0m         \u001B[0;32mwith\u001B[0m \u001B[0mconfig_context\u001B[0m\u001B[0;34m(\u001B[0m\u001B[0;34m**\u001B[0m\u001B[0mself\u001B[0m\u001B[0;34m.\u001B[0m\u001B[0mconfig\u001B[0m\u001B[0;34m)\u001B[0m\u001B[0;34m:\u001B[0m\u001B[0;34m\u001B[0m\u001B[0;34m\u001B[0m\u001B[0m\n\u001B[0;32m--> 222\u001B[0;31m             \u001B[0;32mreturn\u001B[0m \u001B[0mself\u001B[0m\u001B[0;34m.\u001B[0m\u001B[0mfunction\u001B[0m\u001B[0;34m(\u001B[0m\u001B[0;34m*\u001B[0m\u001B[0margs\u001B[0m\u001B[0;34m,\u001B[0m \u001B[0;34m**\u001B[0m\u001B[0mkwargs\u001B[0m\u001B[0;34m)\u001B[0m\u001B[0;34m\u001B[0m\u001B[0;34m\u001B[0m\u001B[0m\n\u001B[0m",
      "\u001B[0;32m~/anaconda3/envs/lola/lib/python3.7/site-packages/sklearn/model_selection/_validation.py\u001B[0m in \u001B[0;36m_fit_and_score\u001B[0;34m(estimator, X, y, scorer, train, test, verbose, parameters, fit_params, return_train_score, return_parameters, return_n_test_samples, return_times, return_estimator, split_progress, candidate_progress, error_score)\u001B[0m\n\u001B[1;32m    596\u001B[0m             \u001B[0mestimator\u001B[0m\u001B[0;34m.\u001B[0m\u001B[0mfit\u001B[0m\u001B[0;34m(\u001B[0m\u001B[0mX_train\u001B[0m\u001B[0;34m,\u001B[0m \u001B[0;34m**\u001B[0m\u001B[0mfit_params\u001B[0m\u001B[0;34m)\u001B[0m\u001B[0;34m\u001B[0m\u001B[0;34m\u001B[0m\u001B[0m\n\u001B[1;32m    597\u001B[0m         \u001B[0;32melse\u001B[0m\u001B[0;34m:\u001B[0m\u001B[0;34m\u001B[0m\u001B[0;34m\u001B[0m\u001B[0m\n\u001B[0;32m--> 598\u001B[0;31m             \u001B[0mestimator\u001B[0m\u001B[0;34m.\u001B[0m\u001B[0mfit\u001B[0m\u001B[0;34m(\u001B[0m\u001B[0mX_train\u001B[0m\u001B[0;34m,\u001B[0m \u001B[0my_train\u001B[0m\u001B[0;34m,\u001B[0m \u001B[0;34m**\u001B[0m\u001B[0mfit_params\u001B[0m\u001B[0;34m)\u001B[0m\u001B[0;34m\u001B[0m\u001B[0;34m\u001B[0m\u001B[0m\n\u001B[0m\u001B[1;32m    599\u001B[0m \u001B[0;34m\u001B[0m\u001B[0m\n\u001B[1;32m    600\u001B[0m     \u001B[0;32mexcept\u001B[0m \u001B[0mException\u001B[0m \u001B[0;32mas\u001B[0m \u001B[0me\u001B[0m\u001B[0;34m:\u001B[0m\u001B[0;34m\u001B[0m\u001B[0;34m\u001B[0m\u001B[0m\n",
      "\u001B[0;32m~/anaconda3/envs/lola/lib/python3.7/site-packages/sklearn/pipeline.py\u001B[0m in \u001B[0;36mfit\u001B[0;34m(self, X, y, **fit_params)\u001B[0m\n\u001B[1;32m    344\u001B[0m             \u001B[0;32mif\u001B[0m \u001B[0mself\u001B[0m\u001B[0;34m.\u001B[0m\u001B[0m_final_estimator\u001B[0m \u001B[0;34m!=\u001B[0m \u001B[0;34m'passthrough'\u001B[0m\u001B[0;34m:\u001B[0m\u001B[0;34m\u001B[0m\u001B[0;34m\u001B[0m\u001B[0m\n\u001B[1;32m    345\u001B[0m                 \u001B[0mfit_params_last_step\u001B[0m \u001B[0;34m=\u001B[0m \u001B[0mfit_params_steps\u001B[0m\u001B[0;34m[\u001B[0m\u001B[0mself\u001B[0m\u001B[0;34m.\u001B[0m\u001B[0msteps\u001B[0m\u001B[0;34m[\u001B[0m\u001B[0;34m-\u001B[0m\u001B[0;36m1\u001B[0m\u001B[0;34m]\u001B[0m\u001B[0;34m[\u001B[0m\u001B[0;36m0\u001B[0m\u001B[0;34m]\u001B[0m\u001B[0;34m]\u001B[0m\u001B[0;34m\u001B[0m\u001B[0;34m\u001B[0m\u001B[0m\n\u001B[0;32m--> 346\u001B[0;31m                 \u001B[0mself\u001B[0m\u001B[0;34m.\u001B[0m\u001B[0m_final_estimator\u001B[0m\u001B[0;34m.\u001B[0m\u001B[0mfit\u001B[0m\u001B[0;34m(\u001B[0m\u001B[0mXt\u001B[0m\u001B[0;34m,\u001B[0m \u001B[0my\u001B[0m\u001B[0;34m,\u001B[0m \u001B[0;34m**\u001B[0m\u001B[0mfit_params_last_step\u001B[0m\u001B[0;34m)\u001B[0m\u001B[0;34m\u001B[0m\u001B[0;34m\u001B[0m\u001B[0m\n\u001B[0m\u001B[1;32m    347\u001B[0m \u001B[0;34m\u001B[0m\u001B[0m\n\u001B[1;32m    348\u001B[0m         \u001B[0;32mreturn\u001B[0m \u001B[0mself\u001B[0m\u001B[0;34m\u001B[0m\u001B[0;34m\u001B[0m\u001B[0m\n",
      "\u001B[0;32m~/anaconda3/envs/lola/lib/python3.7/site-packages/sklearn/svm/_base.py\u001B[0m in \u001B[0;36mfit\u001B[0;34m(self, X, y, sample_weight)\u001B[0m\n\u001B[1;32m    224\u001B[0m \u001B[0;34m\u001B[0m\u001B[0m\n\u001B[1;32m    225\u001B[0m         \u001B[0mseed\u001B[0m \u001B[0;34m=\u001B[0m \u001B[0mrnd\u001B[0m\u001B[0;34m.\u001B[0m\u001B[0mrandint\u001B[0m\u001B[0;34m(\u001B[0m\u001B[0mnp\u001B[0m\u001B[0;34m.\u001B[0m\u001B[0miinfo\u001B[0m\u001B[0;34m(\u001B[0m\u001B[0;34m'i'\u001B[0m\u001B[0;34m)\u001B[0m\u001B[0;34m.\u001B[0m\u001B[0mmax\u001B[0m\u001B[0;34m)\u001B[0m\u001B[0;34m\u001B[0m\u001B[0;34m\u001B[0m\u001B[0m\n\u001B[0;32m--> 226\u001B[0;31m         \u001B[0mfit\u001B[0m\u001B[0;34m(\u001B[0m\u001B[0mX\u001B[0m\u001B[0;34m,\u001B[0m \u001B[0my\u001B[0m\u001B[0;34m,\u001B[0m \u001B[0msample_weight\u001B[0m\u001B[0;34m,\u001B[0m \u001B[0msolver_type\u001B[0m\u001B[0;34m,\u001B[0m \u001B[0mkernel\u001B[0m\u001B[0;34m,\u001B[0m \u001B[0mrandom_seed\u001B[0m\u001B[0;34m=\u001B[0m\u001B[0mseed\u001B[0m\u001B[0;34m)\u001B[0m\u001B[0;34m\u001B[0m\u001B[0;34m\u001B[0m\u001B[0m\n\u001B[0m\u001B[1;32m    227\u001B[0m         \u001B[0;31m# see comment on the other call to np.iinfo in this file\u001B[0m\u001B[0;34m\u001B[0m\u001B[0;34m\u001B[0m\u001B[0;34m\u001B[0m\u001B[0m\n\u001B[1;32m    228\u001B[0m \u001B[0;34m\u001B[0m\u001B[0m\n",
      "\u001B[0;32m~/anaconda3/envs/lola/lib/python3.7/site-packages/sklearn/svm/_base.py\u001B[0m in \u001B[0;36m_dense_fit\u001B[0;34m(self, X, y, sample_weight, solver_type, kernel, random_seed)\u001B[0m\n\u001B[1;32m    283\u001B[0m                 \u001B[0mcache_size\u001B[0m\u001B[0;34m=\u001B[0m\u001B[0mself\u001B[0m\u001B[0;34m.\u001B[0m\u001B[0mcache_size\u001B[0m\u001B[0;34m,\u001B[0m \u001B[0mcoef0\u001B[0m\u001B[0;34m=\u001B[0m\u001B[0mself\u001B[0m\u001B[0;34m.\u001B[0m\u001B[0mcoef0\u001B[0m\u001B[0;34m,\u001B[0m\u001B[0;34m\u001B[0m\u001B[0;34m\u001B[0m\u001B[0m\n\u001B[1;32m    284\u001B[0m                 \u001B[0mgamma\u001B[0m\u001B[0;34m=\u001B[0m\u001B[0mself\u001B[0m\u001B[0;34m.\u001B[0m\u001B[0m_gamma\u001B[0m\u001B[0;34m,\u001B[0m \u001B[0mepsilon\u001B[0m\u001B[0;34m=\u001B[0m\u001B[0mself\u001B[0m\u001B[0;34m.\u001B[0m\u001B[0mepsilon\u001B[0m\u001B[0;34m,\u001B[0m\u001B[0;34m\u001B[0m\u001B[0;34m\u001B[0m\u001B[0m\n\u001B[0;32m--> 285\u001B[0;31m                 max_iter=self.max_iter, random_seed=random_seed)\n\u001B[0m\u001B[1;32m    286\u001B[0m \u001B[0;34m\u001B[0m\u001B[0m\n\u001B[1;32m    287\u001B[0m         \u001B[0mself\u001B[0m\u001B[0;34m.\u001B[0m\u001B[0m_warn_from_fit_status\u001B[0m\u001B[0;34m(\u001B[0m\u001B[0;34m)\u001B[0m\u001B[0;34m\u001B[0m\u001B[0;34m\u001B[0m\u001B[0m\n",
      "\u001B[0;31mKeyboardInterrupt\u001B[0m: "
     ]
    }
   ],
   "source": [
    "\n",
    "\n",
    "from grakel.datasets import fetch_dataset\n",
    "from grakel.utils import cross_validate_Kfold_SVM\n",
    "from grakel.kernels import WeisfeilerLehman, VertexHistogram\n",
    "import time\n",
    "\n",
    "# Loads the MUTAG dataset\n",
    "dataset = fetch_dataset(\"AIDS\", verbose=False)\n",
    "G, y = dataset.data, dataset.target\n",
    "\n",
    "# Generates a list of kernel matrices using the Weisfeiler-Lehman subtree kernel\n",
    "# Each kernel matrix is generated by setting the number of iterations of the\n",
    "# kernel to a different value (from 2 to 7)\n",
    "time_s  = time.time()\n",
    "Ks = list()\n",
    "for i in range(1, 7):\n",
    "    gk = WeisfeilerLehman(n_iter=i, base_graph_kernel=VertexHistogram, normalize=True)\n",
    "    K = gk.fit_transform(G)\n",
    "    Ks.append(K)\n",
    "time_k = time.time()\n",
    "print(f'Took {time_k - time_s:.5f} second to calculate the kernels!')\n",
    "\n",
    "# Performs 10-fold cross-validation over different kernels and the parameter C of\n",
    "# SVM and repeats the experiment 10 times with different folds\n",
    "accs = cross_validate_Kfold_SVM([Ks], y, n_iter=10)\n",
    "print(\"Average accuracy:\", str(round(np.mean(accs[0])*100, 2)) + \"%\")\n",
    "print(\"Standard deviation:\", str(round(np.std(accs[0])*100, 2)) + \"%\")\n",
    "time_e = time.time()\n",
    "print(f'Took {time_e - time_k:.1f} second to gridsearch!')\n",
    "print(f'Total time: {time_e - time_s:.1f}')"
   ],
   "metadata": {
    "collapsed": false,
    "pycharm": {
     "name": "#%%\n"
    }
   }
  },
  {
   "cell_type": "code",
   "execution_count": null,
   "outputs": [],
   "source": [],
   "metadata": {
    "collapsed": false,
    "pycharm": {
     "name": "#%%\n"
    }
   }
  },
  {
   "cell_type": "code",
   "execution_count": null,
   "outputs": [],
   "source": [
    "time_s  = time.time()\n",
    "Ks = list()\n",
    "for i in range(1, 5):\n",
    "    gk = ProductPower(power=i, normalize=False, grakel_compatible=True, kernel='rbf')\n",
    "    K = gk.fit_transform(prime_adj_all, _)\n",
    "    Ks.append(K)\n",
    "time_k = time.time()\n",
    "print(f'Took {time_k - time_s:.5f} second to calculate the kernels!')\n",
    "\n",
    "# Performs 10-fold cross-validation over different kernels and the parameter C of\n",
    "# SVM and repeats the experiment 10 times with different folds\n",
    "accs = cross_validate_Kfold_SVM([Ks], y, n_iter=10)\n",
    "print(\"Average accuracy:\", str(round(np.mean(accs[0])*100, 2)) + \"%\")\n",
    "print(\"Standard deviation:\", str(round(np.std(accs[0])*100, 2)) + \"%\")\n",
    "time_e = time.time()\n",
    "print(f'Took {time_e - time_k:.1f} second to gridsearch!')\n",
    "print(f'Total time: {time_e - time_s:.1f}')"
   ],
   "metadata": {
    "collapsed": false,
    "pycharm": {
     "name": "#%%\n"
    }
   }
  },
  {
   "cell_type": "markdown",
   "source": [
    "# Compare with Grakel library Kernels\n",
    "\n",
    "# Paper : https://grlplus.github.io/papers/79.pdf"
   ],
   "metadata": {
    "collapsed": false,
    "pycharm": {
     "name": "#%% md\n"
    }
   }
  },
  {
   "cell_type": "code",
   "execution_count": 503,
   "outputs": [
    {
     "name": "stdout",
     "output_type": "stream",
     "text": [
      "Total: 11 datasets\n",
      "AIDS\n",
      "BZR_MD\n",
      "COX2_MD\n",
      "DHFR_MD\n",
      "ER_MD\n",
      "Mutagenicity\n",
      "MUTAG\n",
      "PTC_FM\n",
      "PTC_FR\n",
      "PTC_MM\n",
      "PTC_MR\n"
     ]
    }
   ],
   "source": [
    "\n",
    "\n",
    "from grakel.datasets.base import dataset_metadata\n",
    "\n",
    "# We want edge labels as these are the multi-relational\n",
    "# We need node labels for the other methodologies\n",
    "# Tox datasets seem to have problems\n",
    "wanted_dataset_names = []\n",
    "for dataset_name, values in dataset_metadata.items():\n",
    "    if values['el'] and values['nl'] and not('Tox' in dataset_name):\n",
    "        wanted_dataset_names.append(dataset_name)\n",
    "\n",
    "# Tox21_AHR has an empty graph,\n",
    "# Tox21_AR is wronly packaged (the downloaded file after unzipping is named something else and throws error\n",
    "unwanted = set(['Cuneiform', 'Tox21_AHR', 'Tox21_AR'])\n",
    "wanted_dataset_names =[dt for dt in wanted_dataset_names if not(dt in unwanted)]\n",
    "print(f'Total: {len(wanted_dataset_names)} datasets')\n",
    "for dt in wanted_dataset_names:\n",
    "    print(dt)"
   ],
   "metadata": {
    "collapsed": false,
    "pycharm": {
     "name": "#%%\n"
    }
   }
  },
  {
   "cell_type": "code",
   "execution_count": 504,
   "outputs": [
    {
     "name": "stdout",
     "output_type": "stream",
     "text": [
      "Dataset: AIDS\n",
      "{'Dataset': 'AIDS', 'Model': 'SP', 'Acc': 0.9875, 'Acc_std': 0.007158910531638183, 'F1_macro': 0.9807184094861855, 'F1_macro_std': 0.011019986071614819, 'F1_micro': 0.9875, 'F1_micro_std': 0.007158910531638183, 'Time': 9.1751549243927}\n",
      "{'Dataset': 'AIDS', 'Model': 'WL-1', 'Acc': 0.8365, 'Acc_std': 0.026081602711489942, 'F1_macro': 0.7934727642081085, 'F1_macro_std': 0.02861383779070345, 'F1_micro': 0.8365, 'F1_micro_std': 0.026081602711489925, 'Time': 1.441014051437378}\n",
      "{'Dataset': 'AIDS', 'Model': 'WL-4', 'Acc': 0.9734999999999999, 'Acc_std': 0.010965856099730664, 'F1_macro': 0.9588865619205388, 'F1_macro_std': 0.016833584014437877, 'F1_micro': 0.9734999999999999, 'F1_micro_std': 0.010965856099730664, 'Time': 1.5487160682678223}\n"
     ]
    },
    {
     "ename": "KeyboardInterrupt",
     "evalue": "",
     "output_type": "error",
     "traceback": [
      "\u001B[0;31m---------------------------------------------------------------------------\u001B[0m",
      "\u001B[0;31mKeyboardInterrupt\u001B[0m                         Traceback (most recent call last)",
      "\u001B[0;32m<ipython-input-504-2c651b0244b7>\u001B[0m in \u001B[0;36m<module>\u001B[0;34m\u001B[0m\n\u001B[1;32m     69\u001B[0m             \u001B[0;31m#X_test = G_test\u001B[0m\u001B[0;34m\u001B[0m\u001B[0;34m\u001B[0m\u001B[0;34m\u001B[0m\u001B[0m\n\u001B[1;32m     70\u001B[0m             \u001B[0mX\u001B[0m \u001B[0;34m=\u001B[0m \u001B[0mG\u001B[0m\u001B[0;34m\u001B[0m\u001B[0;34m\u001B[0m\u001B[0m\n\u001B[0;32m---> 71\u001B[0;31m             \u001B[0mX\u001B[0m \u001B[0;34m=\u001B[0m \u001B[0mmodel\u001B[0m\u001B[0;34m.\u001B[0m\u001B[0mfit_transform\u001B[0m\u001B[0;34m(\u001B[0m\u001B[0mG\u001B[0m\u001B[0;34m)\u001B[0m\u001B[0;34m\u001B[0m\u001B[0;34m\u001B[0m\u001B[0m\n\u001B[0m\u001B[1;32m     72\u001B[0m             pipe = Pipeline([\n\u001B[1;32m     73\u001B[0m   \u001B[0;31m#              ('sd', MinMaxScaler()),\u001B[0m\u001B[0;34m\u001B[0m\u001B[0;34m\u001B[0m\u001B[0;34m\u001B[0m\u001B[0m\n",
      "\u001B[0;32m~/anaconda3/envs/lola/lib/python3.7/site-packages/grakel/kernels/weisfeiler_lehman_optimal_assignment.py\u001B[0m in \u001B[0;36mfit_transform\u001B[0;34m(self, X, y)\u001B[0m\n\u001B[1;32m    278\u001B[0m             \u001B[0;32mfor\u001B[0m \u001B[0mi\u001B[0m \u001B[0;32min\u001B[0m \u001B[0mrange\u001B[0m\u001B[0;34m(\u001B[0m\u001B[0mself\u001B[0m\u001B[0;34m.\u001B[0m\u001B[0m_nx\u001B[0m\u001B[0;34m)\u001B[0m\u001B[0;34m:\u001B[0m\u001B[0;34m\u001B[0m\u001B[0;34m\u001B[0m\u001B[0m\n\u001B[1;32m    279\u001B[0m                 \u001B[0;32mfor\u001B[0m \u001B[0mj\u001B[0m \u001B[0;32min\u001B[0m \u001B[0mrange\u001B[0m\u001B[0;34m(\u001B[0m\u001B[0mi\u001B[0m\u001B[0;34m,\u001B[0m \u001B[0mself\u001B[0m\u001B[0;34m.\u001B[0m\u001B[0m_nx\u001B[0m\u001B[0;34m)\u001B[0m\u001B[0;34m:\u001B[0m\u001B[0;34m\u001B[0m\u001B[0;34m\u001B[0m\u001B[0m\n\u001B[0;32m--> 280\u001B[0;31m                     \u001B[0mK\u001B[0m\u001B[0;34m[\u001B[0m\u001B[0mi\u001B[0m\u001B[0;34m,\u001B[0m \u001B[0mj\u001B[0m\u001B[0;34m]\u001B[0m \u001B[0;34m=\u001B[0m \u001B[0mnp\u001B[0m\u001B[0;34m.\u001B[0m\u001B[0msum\u001B[0m\u001B[0;34m(\u001B[0m\u001B[0mnp\u001B[0m\u001B[0;34m.\u001B[0m\u001B[0mmin\u001B[0m\u001B[0;34m(\u001B[0m\u001B[0mself\u001B[0m\u001B[0;34m.\u001B[0m\u001B[0mX\u001B[0m\u001B[0;34m[\u001B[0m\u001B[0mnp\u001B[0m\u001B[0;34m.\u001B[0m\u001B[0mix_\u001B[0m\u001B[0;34m(\u001B[0m\u001B[0;34m[\u001B[0m\u001B[0mi\u001B[0m\u001B[0;34m,\u001B[0m \u001B[0mj\u001B[0m\u001B[0;34m]\u001B[0m\u001B[0;34m)\u001B[0m\u001B[0;34m,\u001B[0m \u001B[0;34m:\u001B[0m\u001B[0;34m]\u001B[0m\u001B[0;34m,\u001B[0m \u001B[0maxis\u001B[0m\u001B[0;34m=\u001B[0m\u001B[0;36m1\u001B[0m\u001B[0;34m)\u001B[0m\u001B[0;34m)\u001B[0m\u001B[0;34m\u001B[0m\u001B[0;34m\u001B[0m\u001B[0m\n\u001B[0m\u001B[1;32m    281\u001B[0m                     \u001B[0mK\u001B[0m\u001B[0;34m[\u001B[0m\u001B[0mj\u001B[0m\u001B[0;34m,\u001B[0m \u001B[0mi\u001B[0m\u001B[0;34m]\u001B[0m \u001B[0;34m=\u001B[0m \u001B[0mK\u001B[0m\u001B[0;34m[\u001B[0m\u001B[0mi\u001B[0m\u001B[0;34m,\u001B[0m \u001B[0mj\u001B[0m\u001B[0;34m]\u001B[0m\u001B[0;34m\u001B[0m\u001B[0;34m\u001B[0m\u001B[0m\n\u001B[1;32m    282\u001B[0m \u001B[0;34m\u001B[0m\u001B[0m\n",
      "\u001B[0;32m<__array_function__ internals>\u001B[0m in \u001B[0;36mamin\u001B[0;34m(*args, **kwargs)\u001B[0m\n",
      "\u001B[0;32m~/anaconda3/envs/lola/lib/python3.7/site-packages/numpy/core/fromnumeric.py\u001B[0m in \u001B[0;36mamin\u001B[0;34m(a, axis, out, keepdims, initial, where)\u001B[0m\n\u001B[1;32m   2829\u001B[0m     \"\"\"\n\u001B[1;32m   2830\u001B[0m     return _wrapreduction(a, np.minimum, 'min', axis, None, out,\n\u001B[0;32m-> 2831\u001B[0;31m                           keepdims=keepdims, initial=initial, where=where)\n\u001B[0m\u001B[1;32m   2832\u001B[0m \u001B[0;34m\u001B[0m\u001B[0m\n\u001B[1;32m   2833\u001B[0m \u001B[0;34m\u001B[0m\u001B[0m\n",
      "\u001B[0;32m~/anaconda3/envs/lola/lib/python3.7/site-packages/numpy/core/fromnumeric.py\u001B[0m in \u001B[0;36m_wrapreduction\u001B[0;34m(obj, ufunc, method, axis, dtype, out, **kwargs)\u001B[0m\n\u001B[1;32m     85\u001B[0m                 \u001B[0;32mreturn\u001B[0m \u001B[0mreduction\u001B[0m\u001B[0;34m(\u001B[0m\u001B[0maxis\u001B[0m\u001B[0;34m=\u001B[0m\u001B[0maxis\u001B[0m\u001B[0;34m,\u001B[0m \u001B[0mout\u001B[0m\u001B[0;34m=\u001B[0m\u001B[0mout\u001B[0m\u001B[0;34m,\u001B[0m \u001B[0;34m**\u001B[0m\u001B[0mpasskwargs\u001B[0m\u001B[0;34m)\u001B[0m\u001B[0;34m\u001B[0m\u001B[0;34m\u001B[0m\u001B[0m\n\u001B[1;32m     86\u001B[0m \u001B[0;34m\u001B[0m\u001B[0m\n\u001B[0;32m---> 87\u001B[0;31m     \u001B[0;32mreturn\u001B[0m \u001B[0mufunc\u001B[0m\u001B[0;34m.\u001B[0m\u001B[0mreduce\u001B[0m\u001B[0;34m(\u001B[0m\u001B[0mobj\u001B[0m\u001B[0;34m,\u001B[0m \u001B[0maxis\u001B[0m\u001B[0;34m,\u001B[0m \u001B[0mdtype\u001B[0m\u001B[0;34m,\u001B[0m \u001B[0mout\u001B[0m\u001B[0;34m,\u001B[0m \u001B[0;34m**\u001B[0m\u001B[0mpasskwargs\u001B[0m\u001B[0;34m)\u001B[0m\u001B[0;34m\u001B[0m\u001B[0;34m\u001B[0m\u001B[0m\n\u001B[0m\u001B[1;32m     88\u001B[0m \u001B[0;34m\u001B[0m\u001B[0m\n\u001B[1;32m     89\u001B[0m \u001B[0;34m\u001B[0m\u001B[0m\n",
      "\u001B[0;31mKeyboardInterrupt\u001B[0m: "
     ]
    }
   ],
   "source": [
    "import time\n",
    "from grakel.kernels import WeisfeilerLehman, VertexHistogram, WeisfeilerLehmanOptimalAssignment, GraphletSampling\n",
    "from sklearn.metrics import f1_score, accuracy_score\n",
    "\n",
    "from sklearn.model_selection import cross_validate\n",
    "from sklearn.pipeline import Pipeline\n",
    "from sklearn.preprocessing import StandardScaler, MinMaxScaler\n",
    "\n",
    "models = [\n",
    "    #VertexHistogram(normalize=True),\n",
    "    ShortestPath(normalize=True),\n",
    "    WeisfeilerLehman(n_iter=1, base_graph_kernel=VertexHistogram, normalize=True),\n",
    "    WeisfeilerLehman(n_iter=4, base_graph_kernel=VertexHistogram, normalize=True),\n",
    "    WeisfeilerLehmanOptimalAssignment(),\n",
    "    GraphletSampling(),\n",
    "    #ProductPower(power=1, grakel_compatible=False),\n",
    "    ProductPower(power=1, normalize=False, grakel_compatible=False),\n",
    "    #ProductPower(power=2, grakel_compatible=False),\n",
    "    ProductPower(power=3, normalize=False, grakel_compatible=False),\n",
    "    Decomposer(power=1, n_components=2, grakel_compatible=False),\n",
    "    Decomposer(power=3, n_components=2, grakel_compatible=False),\n",
    "    Decomposer(power=5, n_components=2, grakel_compatible=False),\n",
    "    #ProductPower(power=5, grakel_compatible=False),\n",
    "    #ProductPower(power=10, grakel_compatible=False),\n",
    "]\n",
    "\n",
    "model_names = [\n",
    "    'SP',\n",
    "    'WL-1',\n",
    "    'WL-4',\n",
    "    'WL-OA',\n",
    "    'GR',\n",
    "    'PP-1',\n",
    "    'PP-1NN',\n",
    "    'PP-3NN',\n",
    "    'DD-1_2',\n",
    "    'DD-3_2',\n",
    "    'DD-5_2',\n",
    "    # 'PP-5',\n",
    "    # 'PP-10',\n",
    "]\n",
    "\n",
    "results = []\n",
    "for dataset_name in wanted_dataset_names[:]:\n",
    "    print(f'Dataset: {dataset_name}')\n",
    "    dataset = fetch_dataset(dataset_name, verbose=False, download_if_missing=True)\n",
    "    G, y = dataset.data, dataset.target\n",
    "    # Splits the dataset into a training and a test set\n",
    "    G_train, G_test, y_train, y_test = train_test_split(G, y, test_size=0.1, random_state=42, stratify=y)\n",
    "    prime_adj_all = [get_prime_adjacency(g[2]) for g in  G]\n",
    "    #prime_adj_train = [get_prime_adjacency(g[2]) for g in  G_train]\n",
    "    #prime_adj_test = [get_prime_adjacency(g[2]) for g in G_test]\n",
    "    for model, model_name in zip(models, model_names):\n",
    "        #print(model_name)\n",
    "        time_s = time.time()\n",
    "        if 'PP' in model_name or 'DD' in model_name:\n",
    "            #clf = SVC(kernel=\"rbf\")\n",
    "            X = prime_adj_all\n",
    "            X = model.fit_transform(X)\n",
    "            #K_train = model.fit_transform(X_train)\n",
    "            #K_test = model.transform(X_test)\n",
    "            pipe = Pipeline([\n",
    "                ('sd', StandardScaler()),\n",
    "                ('clf', SVC(kernel=\"rbf\", class_weight='balanced'),)\n",
    "            ])\n",
    "        else:\n",
    "            #clf = SVC(kernel=\"precomputed\")\n",
    "            #X_train = G_train\n",
    "            #X_test = G_test\n",
    "            X = G\n",
    "            X = model.fit_transform(G)\n",
    "            pipe = Pipeline([\n",
    "  #              ('sd', MinMaxScaler()),\n",
    "                ('clf', SVC(kernel=\"precomputed\",  class_weight='balanced'))\n",
    "            ])\n",
    "        #            # K_train = model.fit_transform(X_train)\n",
    "            # K_test = model.transform(X_test)\n",
    "        # clf.fit(K_train, y_train)\n",
    "        # y_pred = clf.predict(K_test)\n",
    "        # acc = accuracy_score(y_test, y_pred)\n",
    "        # f1 = f1_score(y_test, y_pred)\n",
    "        scores = cross_validate(pipe, X=X, y=y, cv=10, scoring=['accuracy', 'f1_macro', 'f1_micro'], n_jobs=-1)\n",
    "        time_took = time.time() - time_s\n",
    "        results.append({'Dataset':dataset_name,\n",
    "                        'Model':model_name,\n",
    "                        'Acc':np.mean(scores['test_accuracy']),\n",
    "                        'Acc_std':np.std(scores['test_accuracy']),\n",
    "                        'F1_macro':np.mean(scores['test_f1_macro']),\n",
    "                        'F1_macro_std':np.std(scores['test_f1_macro']),\n",
    "                        'F1_micro':np.mean(scores['test_f1_micro']),\n",
    "                        'F1_micro_std':np.std(scores['test_f1_micro']),\n",
    "                        'Time':time_took})\n",
    "        print(results[-1])\n",
    "    print('~'*20)"
   ],
   "metadata": {
    "collapsed": false,
    "pycharm": {
     "name": "#%%\n"
    }
   }
  },
  {
   "cell_type": "code",
   "execution_count": null,
   "outputs": [],
   "source": [
    "res = pd.DataFrame(results)\n",
    "res['dataset_rank'] = res.groupby(['Dataset'])['F1_macro'].rank(ascending=False)\n",
    "res.groupby('Model').mean().sort_values('dataset_rank')\n",
    "\n"
   ],
   "metadata": {
    "collapsed": false,
    "pycharm": {
     "name": "#%%\n"
    }
   }
  },
  {
   "cell_type": "code",
   "execution_count": null,
   "outputs": [],
   "source": [
    "with sns.plotting_context(context='notebook', font_scale=1.5):\n",
    "    #fig, ax = plt.subplots(1, 1, figsize=(20,10))\n",
    "    g = sns.catplot(x=\"Model\", y=\"Time\", col=\"Dataset\", hue=\"Model\", sharey=False, col_wrap=3,\n",
    "                data=res[['Dataset', 'Model', 'Time']], saturation=.5, height=10,\n",
    "                kind=\"bar\", ci=None, aspect=.6)"
   ],
   "metadata": {
    "collapsed": false,
    "pycharm": {
     "name": "#%%\n"
    }
   }
  },
  {
   "cell_type": "code",
   "execution_count": 229,
   "outputs": [
    {
     "data": {
      "text/plain": "             Acc   Acc_std  F1_macro  F1_macro_std  F1_micro  F1_micro_std  \\\nModel                                                                        \nWL-4    0.675022  0.071646  0.634889      0.076765  0.675022      0.071646   \nPP-3NN  0.637229  0.089332  0.614441      0.093910  0.637229      0.089332   \nPP-1    0.637469  0.091544  0.618054      0.094678  0.637469      0.091544   \nPP-1NN  0.637469  0.091544  0.618054      0.094678  0.637469      0.091544   \nWL      0.653319  0.081684  0.602132      0.090837  0.653319      0.081684   \nDD-3_2  0.632309  0.080210  0.597985      0.085025  0.632309      0.080210   \nDD-5_2  0.622235  0.087315  0.604311      0.092355  0.622235      0.087315   \nDD-1_2  0.634635  0.090121  0.588775      0.093750  0.634635      0.090121   \nVH      0.587158  0.081262  0.520128      0.093675  0.587158      0.081262   \n\n            Time  dataset_rank  \nModel                           \nWL-4    0.943802      3.909091  \nPP-3NN  0.775307      4.181818  \nPP-1    0.759508      4.409091  \nPP-1NN  0.736048      4.409091  \nWL      0.629704      5.090909  \nDD-3_2  1.836068      5.272727  \nDD-5_2  2.599732      5.272727  \nDD-1_2  1.122694      5.363636  \nVH      0.437456      7.090909  ",
      "text/html": "<div>\n<style scoped>\n    .dataframe tbody tr th:only-of-type {\n        vertical-align: middle;\n    }\n\n    .dataframe tbody tr th {\n        vertical-align: top;\n    }\n\n    .dataframe thead th {\n        text-align: right;\n    }\n</style>\n<table border=\"1\" class=\"dataframe\">\n  <thead>\n    <tr style=\"text-align: right;\">\n      <th></th>\n      <th>Acc</th>\n      <th>Acc_std</th>\n      <th>F1_macro</th>\n      <th>F1_macro_std</th>\n      <th>F1_micro</th>\n      <th>F1_micro_std</th>\n      <th>Time</th>\n      <th>dataset_rank</th>\n    </tr>\n    <tr>\n      <th>Model</th>\n      <th></th>\n      <th></th>\n      <th></th>\n      <th></th>\n      <th></th>\n      <th></th>\n      <th></th>\n      <th></th>\n    </tr>\n  </thead>\n  <tbody>\n    <tr>\n      <th>WL-4</th>\n      <td>0.675022</td>\n      <td>0.071646</td>\n      <td>0.634889</td>\n      <td>0.076765</td>\n      <td>0.675022</td>\n      <td>0.071646</td>\n      <td>0.943802</td>\n      <td>3.909091</td>\n    </tr>\n    <tr>\n      <th>PP-3NN</th>\n      <td>0.637229</td>\n      <td>0.089332</td>\n      <td>0.614441</td>\n      <td>0.093910</td>\n      <td>0.637229</td>\n      <td>0.089332</td>\n      <td>0.775307</td>\n      <td>4.181818</td>\n    </tr>\n    <tr>\n      <th>PP-1</th>\n      <td>0.637469</td>\n      <td>0.091544</td>\n      <td>0.618054</td>\n      <td>0.094678</td>\n      <td>0.637469</td>\n      <td>0.091544</td>\n      <td>0.759508</td>\n      <td>4.409091</td>\n    </tr>\n    <tr>\n      <th>PP-1NN</th>\n      <td>0.637469</td>\n      <td>0.091544</td>\n      <td>0.618054</td>\n      <td>0.094678</td>\n      <td>0.637469</td>\n      <td>0.091544</td>\n      <td>0.736048</td>\n      <td>4.409091</td>\n    </tr>\n    <tr>\n      <th>WL</th>\n      <td>0.653319</td>\n      <td>0.081684</td>\n      <td>0.602132</td>\n      <td>0.090837</td>\n      <td>0.653319</td>\n      <td>0.081684</td>\n      <td>0.629704</td>\n      <td>5.090909</td>\n    </tr>\n    <tr>\n      <th>DD-3_2</th>\n      <td>0.632309</td>\n      <td>0.080210</td>\n      <td>0.597985</td>\n      <td>0.085025</td>\n      <td>0.632309</td>\n      <td>0.080210</td>\n      <td>1.836068</td>\n      <td>5.272727</td>\n    </tr>\n    <tr>\n      <th>DD-5_2</th>\n      <td>0.622235</td>\n      <td>0.087315</td>\n      <td>0.604311</td>\n      <td>0.092355</td>\n      <td>0.622235</td>\n      <td>0.087315</td>\n      <td>2.599732</td>\n      <td>5.272727</td>\n    </tr>\n    <tr>\n      <th>DD-1_2</th>\n      <td>0.634635</td>\n      <td>0.090121</td>\n      <td>0.588775</td>\n      <td>0.093750</td>\n      <td>0.634635</td>\n      <td>0.090121</td>\n      <td>1.122694</td>\n      <td>5.363636</td>\n    </tr>\n    <tr>\n      <th>VH</th>\n      <td>0.587158</td>\n      <td>0.081262</td>\n      <td>0.520128</td>\n      <td>0.093675</td>\n      <td>0.587158</td>\n      <td>0.081262</td>\n      <td>0.437456</td>\n      <td>7.090909</td>\n    </tr>\n  </tbody>\n</table>\n</div>"
     },
     "execution_count": 229,
     "metadata": {},
     "output_type": "execute_result"
    }
   ],
   "source": [
    "res['dataset_rank'] = res.groupby(['Dataset'])['F1_macro'].rank(ascending=False)\n",
    "res.groupby('Model').mean().sort_values('dataset_rank')"
   ],
   "metadata": {
    "collapsed": false,
    "pycharm": {
     "name": "#%%\n"
    }
   }
  },
  {
   "cell_type": "code",
   "execution_count": 223,
   "outputs": [
    {
     "data": {
      "text/plain": "<Figure size 1800x2160 with 11 Axes>",
      "image/png": "[encoded data removed]"
     },
     "metadata": {},
     "output_type": "display_data"
    }
   ],
   "source": [
    "with sns.plotting_context(context='notebook', font_scale=1.5):\n",
    "    #fig, ax = plt.subplots(1, 1, figsize=(20,10))\n",
    "    g = sns.catplot(x=\"Model\", y=\"Acc\", col=\"Dataset\", hue=\"Model\", sharey=True, col_wrap=5,\n",
    "                data=res[['Dataset', 'Model', 'Acc']], saturation=.5, height=10,\n",
    "                kind=\"bar\", ci=None, aspect=0.5)\n",
    "\n",
    "    for axes in g.axes.flat:\n",
    "        _ = axes.set_xticklabels(axes.get_xticklabels(), rotation=45)\n",
    "    plt.tight_layout()\n"
   ],
   "metadata": {
    "collapsed": false,
    "pycharm": {
     "name": "#%%\n"
    }
   }
  },
  {
   "cell_type": "code",
   "execution_count": null,
   "outputs": [],
   "source": [
    "score_metric = 'F1_macro'\n",
    "wins_time = np.zeros((len(model_names), len(model_names)))\n",
    "wins_score = np.zeros((len(model_names), len(model_names)))\n",
    "for dataset in wanted_dataset_names:\n",
    "    subset = res[res['Dataset']==dataset].set_index('Model')\n",
    "    for i, m1 in enumerate(model_names):\n",
    "        for j, m2 in enumerate(model_names[:]):\n",
    "            if subset.loc[m1][score_metric] > subset.loc[m2][score_metric]:\n",
    "                wins_score[i,j] += 1\n",
    "            elif subset.loc[m1][score_metric] < subset.loc[m2][score_metric]:\n",
    "                wins_score[j, i] += 1\n",
    "            else:\n",
    "                pass\n",
    "\n",
    "            if subset.loc[m1]['Time'] > subset.loc[m2]['Time']:\n",
    "                wins_time[i,j] += 1\n",
    "            elif subset.loc[m1]['Time'] < subset.loc[m2]['Time']:\n",
    "                wins_time[j, i] += 1\n",
    "            else:\n",
    "                pass"
   ],
   "metadata": {
    "collapsed": false,
    "pycharm": {
     "name": "#%%\n"
    }
   }
  },
  {
   "cell_type": "code",
   "execution_count": null,
   "outputs": [],
   "source": [
    "with sns.plotting_context(context='notebook', font_scale=1.2):\n",
    "    fig, ax = plt.subplots(1, 1, figsize=(10,10))\n",
    "    sns.heatmap(pd.DataFrame(wins_score / (2*len(wanted_dataset_names)), columns = model_names, index=model_names), ax=ax, annot=True, fmt='.2f')\n",
    "    plt.title(f'{score_metric} % wins/losses on {len(wanted_dataset_names)}')"
   ],
   "metadata": {
    "collapsed": false,
    "pycharm": {
     "name": "#%%\n"
    }
   }
  },
  {
   "cell_type": "code",
   "execution_count": null,
   "outputs": [],
   "source": [
    "# melted = res.melt(id_vars=['Dataset', 'Model'], value_vars=['Acc', 'Acc_std', 'F1', \"F1_std\", 'Time'])\n",
    "# with sns.plotting_context(context='notebook', font_scale=1.5):\n",
    "#     #fig, ax = plt.subplots(1, 1, figsize=(20,10))\n",
    "#     g = sns.catplot(x=\"variable\", y=\"value\", col=\"Dataset\", hue='Model', sharey=False, col_wrap=4,\n",
    "#                 data=melted, saturation=.5,\n",
    "#                 kind=\"bar\", ci=None, aspect=.6)"
   ],
   "metadata": {
    "collapsed": false,
    "pycharm": {
     "name": "#%%\n"
    }
   }
  },
  {
   "cell_type": "code",
   "execution_count": null,
   "outputs": [],
   "source": [],
   "metadata": {
    "collapsed": false,
    "pycharm": {
     "name": "#%%\n"
    }
   }
  },
  {
   "cell_type": "code",
   "execution_count": null,
   "outputs": [],
   "source": [
    "res['dataset_rank'] = res.groupby(['Dataset'])['Acc'].rank(ascending=False)\n",
    "res.groupby('Model').mean()"
   ],
   "metadata": {
    "collapsed": false,
    "pycharm": {
     "name": "#%%\n"
    }
   }
  },
  {
   "cell_type": "code",
   "execution_count": null,
   "outputs": [],
   "source": [
    "np.unique(y_train)"
   ],
   "metadata": {
    "collapsed": false,
    "pycharm": {
     "name": "#%%\n"
    }
   }
  },
  {
   "cell_type": "code",
   "execution_count": null,
   "outputs": [],
   "source": [
    "pd.DataFrame(results)"
   ],
   "metadata": {
    "collapsed": false,
    "pycharm": {
     "name": "#%%\n"
    }
   }
  },
  {
   "cell_type": "code",
   "execution_count": null,
   "outputs": [],
   "source": [
    "prime_adj_train[1230]"
   ],
   "metadata": {
    "collapsed": false,
    "pycharm": {
     "name": "#%%\n"
    }
   }
  },
  {
   "cell_type": "code",
   "execution_count": null,
   "outputs": [],
   "source": [],
   "metadata": {
    "collapsed": false,
    "pycharm": {
     "name": "#%%\n"
    }
   }
  },
  {
   "cell_type": "code",
   "execution_count": null,
   "outputs": [],
   "source": [
    "len(G_train), K_train.shape"
   ],
   "metadata": {
    "collapsed": false,
    "pycharm": {
     "name": "#%%\n"
    }
   }
  },
  {
   "cell_type": "code",
   "execution_count": null,
   "outputs": [],
   "source": [
    "\n",
    "pp.transform([prime_adj_train[1229]])"
   ],
   "metadata": {
    "collapsed": false,
    "pycharm": {
     "name": "#%%\n"
    }
   }
  },
  {
   "cell_type": "code",
   "execution_count": null,
   "outputs": [],
   "source": [
    "prime_adj_train[1229].shape[0]"
   ],
   "metadata": {
    "collapsed": false,
    "pycharm": {
     "name": "#%%\n"
    }
   }
  },
  {
   "cell_type": "code",
   "execution_count": null,
   "outputs": [],
   "source": [
    "import networkx as nx\n",
    "path = \"/Users/Konstantinos.Bougiatiotis@ey.com/Downloads/LINUX/train/\"\n",
    "G = nx.read_gexf(path+\"0.gexf\")\n",
    "type(G)"
   ],
   "metadata": {
    "collapsed": false,
    "pycharm": {
     "name": "#%%\n"
    }
   }
  },
  {
   "cell_type": "code",
   "execution_count": null,
   "outputs": [],
   "source": [
    "G.edges(data=True)"
   ],
   "metadata": {
    "collapsed": false,
    "pycharm": {
     "name": "#%%\n"
    }
   }
  },
  {
   "cell_type": "code",
   "execution_count": null,
   "outputs": [],
   "source": [
    "res[res['Dataset'] == 'PTC_MR']\n"
   ],
   "metadata": {
    "collapsed": false,
    "pycharm": {
     "name": "#%%\n"
    }
   }
  },
  {
   "cell_type": "code",
   "execution_count": null,
   "outputs": [],
   "source": [
    "\n",
    "\n"
   ],
   "metadata": {
    "collapsed": false,
    "pycharm": {
     "name": "#%%\n"
    }
   }
  },
  {
   "cell_type": "code",
   "execution_count": null,
   "outputs": [],
   "source": [
    "from sklearn.metrics import f1_score, accuracy_score\n",
    "dataset = fetch_dataset('PTC_MR', verbose=False, download_if_missing=True)\n",
    "G, y = dataset.data, dataset.target\n",
    "prime_adj_all = [get_prime_adjacency(g[2]) for g in  G]\n",
    "\n",
    "from sklearn.model_selection import StratifiedKFold, GridSearchCV\n",
    "param_grid = {'C': [10**p for p in [-3, -2, -1, 0, 1, 2, 3]],\n",
    "              'kernel': ['rbf', 'linear', 'sigmoid']}\n",
    "cv = StratifiedKFold(random_state=None, n_splits=10)\n",
    "prime_adj_all_array = np.array(prime_adj_all, dtype='object')\n",
    "acc = []\n",
    "f1 = []\n",
    "for train_indices, test_indices in cv.split(prime_adj_all, y):\n",
    "    pp = ProductPower(power=1, normalize=True, grakel_compatible=False, kernel='rbf')\n",
    "    X_train = prime_adj_all_array[train_indices]\n",
    "    y_train = y[train_indices]\n",
    "    X_test = prime_adj_all_array[test_indices]\n",
    "    y_test = y[test_indices]\n",
    "    X_train = pp.fit_transform(X_train, y_train)\n",
    "    X_test = pp.transform(X_test)\n",
    "    grid = GridSearchCV(SVC(), param_grid, refit = True, cv=10, verbose = 0, n_jobs=-1)\n",
    "    grid.fit(X_train, y_train)\n",
    "    print(grid.best_params_, grid.best_score_)\n",
    "    y_pred = grid.predict(X_test)\n",
    "    acc.append(accuracy_score(y_test, y_pred))\n",
    "    f1.append(f1_score(y_test, y_pred))\n",
    "    print(f'Acc: {acc[-1]:.2f}, F1: {f1[-1]:.2f}')\n",
    "    print('~'*50)\n",
    "print(f'Acc: {100 * np.mean(acc):.2f} % ({np.std(acc):.2f})')\n",
    "print(f'F1: {100 * np.mean(f1):.2f} % ({np.std(f1):.2f})')"
   ],
   "metadata": {
    "collapsed": false,
    "pycharm": {
     "name": "#%%\n"
    }
   }
  },
  {
   "cell_type": "code",
   "execution_count": null,
   "outputs": [],
   "source": [
    "print(f'Acc: {100 * np.mean(acc):.2f} % ({np.std(acc):.2f})')\n",
    "print(f'F1: {100 * np.mean(f1):.2f} % ({np.std(f1):.2f})')"
   ],
   "metadata": {
    "collapsed": false,
    "pycharm": {
     "name": "#%%\n"
    }
   }
  },
  {
   "cell_type": "markdown",
   "source": [
    "# Work on Node classificaton IMDB multi-relational\n",
    "https://www.ijcai.org/proceedings/2020/0175.pdf\n",
    "\n",
    "THESE DID NOT WORK FOR IMDB, ACM, DBLP because of very trivial form of the datasets.\n",
    "IMDB has two relations. Each node has exactly 1 r1 and 2 r2 to different nodes. So their product will be the same for all nodes.\n",
    "\n",
    "Also, for all 3 datasets the 2-hop adjacency is all zeros (seems like disconeccted cases)\n"
   ],
   "metadata": {
    "collapsed": false,
    "pycharm": {
     "name": "#%% md\n"
    }
   }
  },
  {
   "cell_type": "code",
   "execution_count": 438,
   "outputs": [],
   "source": [
    "from scipy.sparse import csr_matrix, csc_matrix\n",
    "def generate_prime_adj(data, wanted_indexes):\n",
    "\n",
    "    rels = sorted(wanted_indexes)\n",
    "    from sympy import nextprime\n",
    "    relid2prime = {}\n",
    "    prime2relid = {}\n",
    "    current_int = 2\n",
    "    for rel in rels:\n",
    "        cur_prime = int(nextprime(current_int))\n",
    "        relid2prime[rel] = cur_prime\n",
    "        prime2relid[cur_prime] = rel\n",
    "        current_int = cur_prime\n",
    "\n",
    "    data_edges, rows, cols = [], [], []\n",
    "    for rel_index in rels:\n",
    "        #print(rel_index, len(data))\n",
    "\n",
    "        rel_graph = data[rel_index]\n",
    "        print(rel_graph.nnz)\n",
    "        rows_ar, cols_ar = rel_graph.nonzero()\n",
    "        rows.extend(rows_ar.tolist())\n",
    "        cols.extend(cols_ar.tolist())\n",
    "        data_edges.extend([relid2prime[rel_index] for _ in cols_ar])\n",
    "    return csc_matrix((data_edges, (rows, cols)), dtype=int, shape=rel_graph.shape)\n"
   ],
   "metadata": {
    "collapsed": false,
    "pycharm": {
     "name": "#%%\n"
    }
   }
  },
  {
   "cell_type": "code",
   "execution_count": 394,
   "outputs": [],
   "source": [
    "import pickle"
   ],
   "metadata": {
    "collapsed": false,
    "pycharm": {
     "name": "#%%\n"
    }
   }
  },
  {
   "cell_type": "code",
   "execution_count": 490,
   "outputs": [
    {
     "name": "stdout",
     "output_type": "stream",
     "text": [
      "Number of edge graphs 4\n",
      "19645\n",
      "14328\n",
      "Case: train | # of nodes: 800\n",
      "Case: eval | # of nodes: 400\n",
      "Case: test | # of nodes: 2857\n"
     ]
    }
   ],
   "source": [
    "# FOR IMDB we have 4 relation graphs. Rel graphs 0,1 are symmetric of each other and the same stands for 2,3.\n",
    "# 0,1 correspond to relation 0 and 2,3 to relation 2.\n",
    "\n",
    "\n",
    "path_edges = \"/Users/Konstantinos.Bougiatiotis@ey.com/Downloads/data/DBLP/edges.pkl\"\n",
    "path_labels = \"/Users/Konstantinos.Bougiatiotis@ey.com/Downloads/data/DBLP/labels.pkl\"\n",
    "with open(path_edges, 'rb') as f:\n",
    "    data = pickle.load(f)\n",
    "    print(f'Number of edge graphs {len(data)}')\n",
    "    wanted_indexes = [0, 2]\n",
    "    adj_ = generate_prime_adj(data, wanted_indexes).toarray()\n",
    "\n",
    "\n",
    "node2label = np.zeros(adj_.shape[0]) - 1\n",
    "node_splits = {}\n",
    "with open(path_labels, 'rb') as f:\n",
    "    data = pickle.load(f)\n",
    "    for i, d in enumerate(data):\n",
    "        unzipped = [item for item in  zip(*d)]\n",
    "        node2label[np.array(unzipped[0])] = unzipped[1]\n",
    "        if i == 0:\n",
    "            case = 'train'\n",
    "        elif i == 1:\n",
    "            case = 'eval'\n",
    "        else:\n",
    "            case = 'test'\n",
    "        cur_indexes = np.array(unzipped[0])\n",
    "        cur_indexes.sort()\n",
    "        print(f'Case: {case} | # of nodes: {len(cur_indexes)}')\n",
    "        node_splits[case] = cur_indexes"
   ],
   "metadata": {
    "collapsed": false,
    "pycharm": {
     "name": "#%%\n"
    }
   }
  },
  {
   "cell_type": "code",
   "execution_count": 491,
   "outputs": [
    {
     "ename": "IndentationError",
     "evalue": "unexpected indent (<ipython-input-491-599003987e56>, line 2)",
     "output_type": "error",
     "traceback": [
      "\u001B[0;36m  File \u001B[0;32m\"<ipython-input-491-599003987e56>\"\u001B[0;36m, line \u001B[0;32m2\u001B[0m\n\u001B[0;31m    cur_x = x.copy()\u001B[0m\n\u001B[0m    ^\u001B[0m\n\u001B[0;31mIndentationError\u001B[0m\u001B[0;31m:\u001B[0m unexpected indent\n"
     ]
    }
   ],
   "source": [
    "cur_feat = []\n",
    "                cur_x = x.copy()\n",
    "                # Power = 0 (1-hop, original Adjacency)\n",
    "                cur_prod = np.sum(np.log(cur_x[cur_x >0]))\n",
    "\n",
    "                if self.normalize:\n",
    "                    cur_prod = cur_prod / ((n**2)*np.log(self.max_))\n",
    "                cur_feat.append(cur_prod)\n",
    "                for p in range(1, self.power):\n",
    "                    cur_x = np.matmul(cur_x, x)\n",
    "                    cur_prod = np.sum(np.log(cur_x[cur_x >0]))\n",
    "                    if self.normalize:\n",
    "                        cur_prod = cur_prod / ((n**2)*np.log(self.max_**p))\n",
    "                    cur_prod -= cur_feat[-1]\n",
    "                    cur_feat.append(cur_prod)\n",
    "                x_tr.append(np.array(cur_feat))"
   ],
   "metadata": {
    "collapsed": false,
    "pycharm": {
     "name": "#%%\n"
    }
   }
  },
  {
   "cell_type": "code",
   "execution_count": 499,
   "outputs": [
    {
     "name": "stdout",
     "output_type": "stream",
     "text": [
      "0\n",
      "copy\n",
      "ones\n",
      "log-sum\n"
     ]
    },
    {
     "data": {
      "text/plain": "array([[0., 0., 0., ..., 0., 0., 0.]])"
     },
     "execution_count": 499,
     "metadata": {},
     "output_type": "execute_result"
    }
   ],
   "source": [
    "class PrimeNodeTransfomer(TransformerMixin):\n",
    "\n",
    "    def __init__(self, power=1):\n",
    "        self.power = power\n",
    "\n",
    "    def fit(self, X, y, adj):\n",
    "        return self\n",
    "\n",
    "    def fit_transform(self, X, y, adj):\n",
    "        self.fit(X, y, adj)\n",
    "        return self.transform(X=X, adj=adj)\n",
    "\n",
    "\n",
    "    def transform(self, X, adj):\n",
    "        cur_feat = []\n",
    "        for p in range(0, self.power):\n",
    "            if p == 0:\n",
    "                cur_x = adj.copy()\n",
    "            else:\n",
    "                cur_x = np.multiply(cur_x, adj)\n",
    "            print(p)\n",
    "            cur_x_ones = cur_x.copy()\n",
    "            print('copy')\n",
    "            cur_x_ones[cur_x_ones == 0] = 1\n",
    "            print('ones')\n",
    "            vals = np.log(cur_x_ones).sum(axis=1)[X]\n",
    "            print('log-sum')\n",
    "            cur_feat.append(vals)\n",
    "        return np.vstack(cur_feat)\n",
    "\n",
    "pnt = PrimeNodeTransfomer(power=1)\n",
    "pnt.fit_transform(node_splits['test'], node2label[node_splits['test']], adj_)"
   ],
   "metadata": {
    "collapsed": false,
    "pycharm": {
     "name": "#%%\n"
    }
   }
  },
  {
   "cell_type": "code",
   "execution_count": 498,
   "outputs": [
    {
     "data": {
      "text/plain": "130575"
     },
     "execution_count": 498,
     "metadata": {},
     "output_type": "execute_result"
    }
   ],
   "source": [
    "adj_.sum()"
   ],
   "metadata": {
    "collapsed": false,
    "pycharm": {
     "name": "#%%\n"
    }
   }
  },
  {
   "cell_type": "code",
   "execution_count": 455,
   "outputs": [
    {
     "data": {
      "text/plain": "matrix([[0.],\n        [0.],\n        [0.],\n        [0.],\n        [0.],\n        [0.],\n        [0.],\n        [0.],\n        [0.],\n        [0.],\n        [0.],\n        [0.],\n        [0.],\n        [0.],\n        [0.],\n        [0.],\n        [0.],\n        [0.],\n        [0.],\n        [0.],\n        [0.],\n        [0.],\n        [0.],\n        [0.],\n        [0.],\n        [0.],\n        [0.],\n        [0.],\n        [0.],\n        [0.],\n        [0.],\n        [0.],\n        [0.],\n        [0.],\n        [0.],\n        [0.],\n        [0.],\n        [0.],\n        [0.],\n        [0.],\n        [0.],\n        [0.],\n        [0.],\n        [0.],\n        [0.],\n        [0.],\n        [0.],\n        [0.],\n        [0.],\n        [0.],\n        [0.],\n        [0.],\n        [0.],\n        [0.],\n        [0.],\n        [0.],\n        [0.],\n        [0.],\n        [0.],\n        [0.],\n        [0.],\n        [0.],\n        [0.],\n        [0.],\n        [0.],\n        [0.],\n        [0.],\n        [0.],\n        [0.],\n        [0.],\n        [0.],\n        [0.],\n        [0.],\n        [0.],\n        [0.],\n        [0.],\n        [0.],\n        [0.],\n        [0.],\n        [0.],\n        [0.],\n        [0.],\n        [0.],\n        [0.],\n        [0.],\n        [0.],\n        [0.],\n        [0.],\n        [0.],\n        [0.],\n        [0.],\n        [0.],\n        [0.],\n        [0.],\n        [0.],\n        [0.],\n        [0.],\n        [0.],\n        [0.],\n        [0.],\n        [0.],\n        [0.],\n        [0.],\n        [0.],\n        [0.],\n        [0.],\n        [0.],\n        [0.],\n        [0.],\n        [0.],\n        [0.],\n        [0.],\n        [0.],\n        [0.],\n        [0.],\n        [0.],\n        [0.],\n        [0.],\n        [0.],\n        [0.],\n        [0.],\n        [0.],\n        [0.],\n        [0.],\n        [0.],\n        [0.],\n        [0.],\n        [0.],\n        [0.],\n        [0.],\n        [0.],\n        [0.],\n        [0.],\n        [0.],\n        [0.],\n        [0.],\n        [0.],\n        [0.],\n        [0.],\n        [0.],\n        [0.],\n        [0.],\n        [0.],\n        [0.],\n        [0.],\n        [0.],\n        [0.],\n        [0.],\n        [0.],\n        [0.],\n        [0.],\n        [0.],\n        [0.],\n        [0.],\n        [0.],\n        [0.],\n        [0.],\n        [0.],\n        [0.],\n        [0.],\n        [0.],\n        [0.],\n        [0.],\n        [0.],\n        [0.],\n        [0.],\n        [0.],\n        [0.],\n        [0.],\n        [0.],\n        [0.],\n        [0.],\n        [0.],\n        [0.],\n        [0.],\n        [0.],\n        [0.],\n        [0.],\n        [0.],\n        [0.],\n        [0.],\n        [0.],\n        [0.],\n        [0.],\n        [0.],\n        [0.],\n        [0.],\n        [0.],\n        [0.],\n        [0.],\n        [0.],\n        [0.],\n        [0.],\n        [0.],\n        [0.],\n        [0.],\n        [0.],\n        [0.],\n        [0.],\n        [0.],\n        [0.],\n        [0.],\n        [0.],\n        [0.],\n        [0.],\n        [0.],\n        [0.],\n        [0.],\n        [0.],\n        [0.],\n        [0.],\n        [0.],\n        [0.],\n        [0.],\n        [0.],\n        [0.],\n        [0.],\n        [0.],\n        [0.],\n        [0.],\n        [0.],\n        [0.],\n        [0.],\n        [0.],\n        [0.],\n        [0.],\n        [0.],\n        [0.],\n        [0.],\n        [0.],\n        [0.],\n        [0.],\n        [0.],\n        [0.],\n        [0.],\n        [0.],\n        [0.],\n        [0.],\n        [0.],\n        [0.],\n        [0.],\n        [0.],\n        [0.],\n        [0.],\n        [0.],\n        [0.],\n        [0.],\n        [0.],\n        [0.],\n        [0.],\n        [0.],\n        [0.],\n        [0.],\n        [0.],\n        [0.],\n        [0.],\n        [0.],\n        [0.],\n        [0.],\n        [0.],\n        [0.],\n        [0.],\n        [0.],\n        [0.],\n        [0.],\n        [0.],\n        [0.],\n        [0.],\n        [0.],\n        [0.],\n        [0.],\n        [0.],\n        [0.],\n        [0.],\n        [0.],\n        [0.],\n        [0.],\n        [0.],\n        [0.],\n        [0.],\n        [0.],\n        [0.],\n        [0.],\n        [0.],\n        [0.],\n        [0.],\n        [0.],\n        [0.],\n        [0.],\n        [0.],\n        [0.],\n        [0.],\n        [0.],\n        [0.],\n        [0.],\n        [0.],\n        [0.],\n        [0.],\n        [0.],\n        [0.]])"
     },
     "execution_count": 455,
     "metadata": {},
     "output_type": "execute_result"
    }
   ],
   "source": [
    "adj_2 = adj_ @ adj_\n",
    "cop = adj_2[node_splits['eval'],:].copy()\n",
    "cop.data = np.log(cop.data)\n",
    "cop.sum(axis=1)"
   ],
   "metadata": {
    "collapsed": false,
    "pycharm": {
     "name": "#%%\n"
    }
   }
  },
  {
   "cell_type": "code",
   "execution_count": 442,
   "outputs": [],
   "source": [
    "adj2_dense = np.multiply(adj_.todense(), adj_.todense())"
   ],
   "metadata": {
    "collapsed": false,
    "pycharm": {
     "name": "#%%\n"
    }
   }
  },
  {
   "cell_type": "code",
   "execution_count": 454,
   "outputs": [
    {
     "data": {
      "text/plain": "matrix([[0, 0, 0, ..., 0, 0, 0],\n        [0, 0, 0, ..., 0, 0, 0],\n        [0, 0, 0, ..., 0, 0, 0],\n        ...,\n        [0, 0, 0, ..., 0, 0, 0],\n        [0, 0, 0, ..., 0, 0, 0],\n        [0, 0, 0, ..., 0, 0, 0]])"
     },
     "execution_count": 454,
     "metadata": {},
     "output_type": "execute_result"
    }
   ],
   "source": [
    "adj2_dense[node_splits['train']]"
   ],
   "metadata": {
    "collapsed": false,
    "pycharm": {
     "name": "#%%\n"
    }
   }
  },
  {
   "cell_type": "code",
   "execution_count": 431,
   "outputs": [
    {
     "data": {
      "text/plain": "((array([0, 0], dtype=int32), array([  438, 18385], dtype=int32)),\n array([3, 5]))"
     },
     "execution_count": 431,
     "metadata": {},
     "output_type": "execute_result"
    }
   ],
   "source": [
    "cop[10].nonzero(), cop[10].data"
   ],
   "metadata": {
    "collapsed": false,
    "pycharm": {
     "name": "#%%\n"
    }
   }
  },
  {
   "cell_type": "code",
   "execution_count": 432,
   "outputs": [
    {
     "data": {
      "text/plain": "((array([0, 0], dtype=int32), array([ 1945, 18385], dtype=int32)),\n array([3, 5]))"
     },
     "execution_count": 432,
     "metadata": {},
     "output_type": "execute_result"
    }
   ],
   "source": [
    "cop[1].nonzero(), cop[1].data"
   ],
   "metadata": {
    "collapsed": false,
    "pycharm": {
     "name": "#%%\n"
    }
   }
  },
  {
   "cell_type": "code",
   "execution_count": 301,
   "outputs": [
    {
     "data": {
      "text/plain": "(array([0, 0, 0, 0, 0, 0, 0], dtype=int32),\n array([   0,   25,  279,  282,  585, 2391, 3402], dtype=int32))"
     },
     "execution_count": 301,
     "metadata": {},
     "output_type": "execute_result"
    }
   ],
   "source": [
    "data[1][4661].nonzero()"
   ],
   "metadata": {
    "collapsed": false,
    "pycharm": {
     "name": "#%%\n"
    }
   }
  },
  {
   "cell_type": "code",
   "execution_count": 287,
   "outputs": [
    {
     "data": {
      "text/plain": "True"
     },
     "execution_count": 287,
     "metadata": {},
     "output_type": "execute_result"
    }
   ],
   "source": [
    "(data[2]!=data[3].T).nnz == 0"
   ],
   "metadata": {
    "collapsed": false,
    "pycharm": {
     "name": "#%%\n"
    }
   }
  },
  {
   "cell_type": "code",
   "execution_count": 472,
   "outputs": [
    {
     "data": {
      "text/plain": "matrix([[    0,  2710,  2711, ..., 17758, 14882, 12278]])"
     },
     "execution_count": 472,
     "metadata": {},
     "output_type": "execute_result"
    }
   ],
   "source": [
    "np.argsort(adj_.sum(axis=1).flatten())[::-1]"
   ],
   "metadata": {
    "collapsed": false,
    "pycharm": {
     "name": "#%%\n"
    }
   }
  },
  {
   "cell_type": "code",
   "execution_count": null,
   "outputs": [
    {
     "ename": "AttributeError",
     "evalue": "'matrix' object has no attribute 'toarray'",
     "output_type": "error",
     "traceback": [
      "\u001B[0;31m---------------------------------------------------------------------------\u001B[0m",
      "\u001B[0;31mAttributeError\u001B[0m                            Traceback (most recent call last)",
      "\u001B[0;32m<ipython-input-474-90a86b1bcabb>\u001B[0m in \u001B[0;36m<module>\u001B[0;34m\u001B[0m\n\u001B[0;32m----> 1\u001B[0;31m \u001B[0madj_\u001B[0m\u001B[0;34m.\u001B[0m\u001B[0msum\u001B[0m\u001B[0;34m(\u001B[0m\u001B[0maxis\u001B[0m\u001B[0;34m=\u001B[0m\u001B[0;36m1\u001B[0m\u001B[0;34m)\u001B[0m\u001B[0;34m.\u001B[0m\u001B[0mtoarray\u001B[0m\u001B[0;34m(\u001B[0m\u001B[0;34m)\u001B[0m\u001B[0;34m\u001B[0m\u001B[0;34m\u001B[0m\u001B[0m\n\u001B[0m\u001B[1;32m      2\u001B[0m \u001B[0;34m\u001B[0m\u001B[0m\n\u001B[1;32m      3\u001B[0m \u001B[0;34m\u001B[0m\u001B[0m\n",
      "\u001B[0;31mAttributeError\u001B[0m: 'matrix' object has no attribute 'toarray'"
     ]
    }
   ],
   "source": [
    "c = adj_.sum(axis=1).toarray()\n"
   ],
   "metadata": {
    "collapsed": false,
    "pycharm": {
     "name": "#%%\n"
    }
   }
  },
  {
   "cell_type": "code",
   "execution_count": 479,
   "outputs": [],
   "source": [
    "_, cols = adj_[17558].nonzero()"
   ],
   "metadata": {
    "collapsed": false,
    "pycharm": {
     "name": "#%%\n"
    }
   }
  },
  {
   "cell_type": "code",
   "execution_count": 480,
   "outputs": [
    {
     "name": "stdout",
     "output_type": "stream",
     "text": [
      "949 0\n",
      "3048 0\n",
      "18402 0\n"
     ]
    }
   ],
   "source": [
    "for c in cols:\n",
    "    print(c, adj_[c].nnz)"
   ],
   "metadata": {
    "collapsed": false,
    "pycharm": {
     "name": "#%%\n"
    }
   }
  },
  {
   "cell_type": "code",
   "execution_count": null,
   "outputs": [],
   "source": [],
   "metadata": {
    "collapsed": false,
    "pycharm": {
     "name": "#%%\n"
    }
   }
  }
 ],
 "metadata": {
  "kernelspec": {
   "display_name": "Python 3",
   "language": "python",
   "name": "python3"
  },
  "language_info": {
   "codemirror_mode": {
    "name": "ipython",
    "version": 2
   },
   "file_extension": ".py",
   "mimetype": "text/x-python",
   "name": "python",
   "nbconvert_exporter": "python",
   "pygments_lexer": "ipython2",
   "version": "2.7.6"
  }
 },
 "nbformat": 4,
 "nbformat_minor": 0
}